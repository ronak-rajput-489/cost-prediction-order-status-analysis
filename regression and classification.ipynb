{
 "cells": [
  {
   "cell_type": "code",
   "execution_count": 1,
   "id": "b2d90470",
   "metadata": {},
   "outputs": [],
   "source": [
    "import numpy as np\n",
    "import pandas as pd\n",
    "import matplotlib.pyplot as plt\n",
    "import seaborn as sns\n",
    "import matplotlib.figure as figure\n",
    "\n",
    "from sklearn.model_selection import train_test_split\n",
    "from sklearn.linear_model import LinearRegression \n",
    "\n",
    "from sklearn.metrics import r2_score,mean_squared_error\n",
    "import statsmodels.api as sm\n",
    "\n",
    "from warnings import filterwarnings\n",
    "filterwarnings('ignore')\n",
    "\n",
    "## logistic regression.....\n",
    "from sklearn.metrics import roc_auc_score,roc_curve\n",
    "from sklearn.linear_model import LogisticRegression\n",
    "\n",
    "from sklearn.model_selection import GridSearchCV\n",
    "from sklearn.tree import DecisionTreeClassifier \n",
    "from sklearn.metrics import classification_report\n",
    "from sklearn.ensemble import RandomForestClassifier"
   ]
  },
  {
   "cell_type": "code",
   "execution_count": 2,
   "id": "bc510292",
   "metadata": {},
   "outputs": [],
   "source": [
    "import re"
   ]
  },
  {
   "cell_type": "code",
   "execution_count": 3,
   "id": "1ce1eb89",
   "metadata": {},
   "outputs": [],
   "source": [
    "df=pd.read_csv('zomato.csv')"
   ]
  },
  {
   "cell_type": "code",
   "execution_count": 4,
   "id": "1bf46611",
   "metadata": {},
   "outputs": [],
   "source": [
    "df_1=df.copy()"
   ]
  },
  {
   "cell_type": "code",
   "execution_count": 5,
   "id": "2e5b0821",
   "metadata": {
    "scrolled": false
   },
   "outputs": [
    {
     "data": {
      "text/html": [
       "<div>\n",
       "<style scoped>\n",
       "    .dataframe tbody tr th:only-of-type {\n",
       "        vertical-align: middle;\n",
       "    }\n",
       "\n",
       "    .dataframe tbody tr th {\n",
       "        vertical-align: top;\n",
       "    }\n",
       "\n",
       "    .dataframe thead th {\n",
       "        text-align: right;\n",
       "    }\n",
       "</style>\n",
       "<table border=\"1\" class=\"dataframe\">\n",
       "  <thead>\n",
       "    <tr style=\"text-align: right;\">\n",
       "      <th></th>\n",
       "      <th>url</th>\n",
       "      <th>address</th>\n",
       "      <th>name</th>\n",
       "      <th>online_order</th>\n",
       "      <th>book_table</th>\n",
       "      <th>rate</th>\n",
       "      <th>votes</th>\n",
       "      <th>phone</th>\n",
       "      <th>location</th>\n",
       "      <th>rest_type</th>\n",
       "      <th>dish_liked</th>\n",
       "      <th>cuisines</th>\n",
       "      <th>approx_cost(for two people)</th>\n",
       "      <th>reviews_list</th>\n",
       "      <th>menu_item</th>\n",
       "      <th>listed_in(type)</th>\n",
       "      <th>listed_in(city)</th>\n",
       "    </tr>\n",
       "  </thead>\n",
       "  <tbody>\n",
       "    <tr>\n",
       "      <th>0</th>\n",
       "      <td>https://www.zomato.com/bangalore/jalsa-banasha...</td>\n",
       "      <td>942, 21st Main Road, 2nd Stage, Banashankari, ...</td>\n",
       "      <td>Jalsa</td>\n",
       "      <td>Yes</td>\n",
       "      <td>Yes</td>\n",
       "      <td>4.1/5</td>\n",
       "      <td>775</td>\n",
       "      <td>080 42297555\\r\\n+91 9743772233</td>\n",
       "      <td>Banashankari</td>\n",
       "      <td>Casual Dining</td>\n",
       "      <td>Pasta, Lunch Buffet, Masala Papad, Paneer Laja...</td>\n",
       "      <td>North Indian, Mughlai, Chinese</td>\n",
       "      <td>800</td>\n",
       "      <td>[('Rated 4.0', 'RATED\\n  A beautiful place to ...</td>\n",
       "      <td>[]</td>\n",
       "      <td>Buffet</td>\n",
       "      <td>Banashankari</td>\n",
       "    </tr>\n",
       "    <tr>\n",
       "      <th>1</th>\n",
       "      <td>https://www.zomato.com/bangalore/spice-elephan...</td>\n",
       "      <td>2nd Floor, 80 Feet Road, Near Big Bazaar, 6th ...</td>\n",
       "      <td>Spice Elephant</td>\n",
       "      <td>Yes</td>\n",
       "      <td>No</td>\n",
       "      <td>4.1/5</td>\n",
       "      <td>787</td>\n",
       "      <td>080 41714161</td>\n",
       "      <td>Banashankari</td>\n",
       "      <td>Casual Dining</td>\n",
       "      <td>Momos, Lunch Buffet, Chocolate Nirvana, Thai G...</td>\n",
       "      <td>Chinese, North Indian, Thai</td>\n",
       "      <td>800</td>\n",
       "      <td>[('Rated 4.0', 'RATED\\n  Had been here for din...</td>\n",
       "      <td>[]</td>\n",
       "      <td>Buffet</td>\n",
       "      <td>Banashankari</td>\n",
       "    </tr>\n",
       "    <tr>\n",
       "      <th>2</th>\n",
       "      <td>https://www.zomato.com/SanchurroBangalore?cont...</td>\n",
       "      <td>1112, Next to KIMS Medical College, 17th Cross...</td>\n",
       "      <td>San Churro Cafe</td>\n",
       "      <td>Yes</td>\n",
       "      <td>No</td>\n",
       "      <td>3.8/5</td>\n",
       "      <td>918</td>\n",
       "      <td>+91 9663487993</td>\n",
       "      <td>Banashankari</td>\n",
       "      <td>Cafe, Casual Dining</td>\n",
       "      <td>Churros, Cannelloni, Minestrone Soup, Hot Choc...</td>\n",
       "      <td>Cafe, Mexican, Italian</td>\n",
       "      <td>800</td>\n",
       "      <td>[('Rated 3.0', \"RATED\\n  Ambience is not that ...</td>\n",
       "      <td>[]</td>\n",
       "      <td>Buffet</td>\n",
       "      <td>Banashankari</td>\n",
       "    </tr>\n",
       "    <tr>\n",
       "      <th>3</th>\n",
       "      <td>https://www.zomato.com/bangalore/addhuri-udupi...</td>\n",
       "      <td>1st Floor, Annakuteera, 3rd Stage, Banashankar...</td>\n",
       "      <td>Addhuri Udupi Bhojana</td>\n",
       "      <td>No</td>\n",
       "      <td>No</td>\n",
       "      <td>3.7/5</td>\n",
       "      <td>88</td>\n",
       "      <td>+91 9620009302</td>\n",
       "      <td>Banashankari</td>\n",
       "      <td>Quick Bites</td>\n",
       "      <td>Masala Dosa</td>\n",
       "      <td>South Indian, North Indian</td>\n",
       "      <td>300</td>\n",
       "      <td>[('Rated 4.0', \"RATED\\n  Great food and proper...</td>\n",
       "      <td>[]</td>\n",
       "      <td>Buffet</td>\n",
       "      <td>Banashankari</td>\n",
       "    </tr>\n",
       "    <tr>\n",
       "      <th>4</th>\n",
       "      <td>https://www.zomato.com/bangalore/grand-village...</td>\n",
       "      <td>10, 3rd Floor, Lakshmi Associates, Gandhi Baza...</td>\n",
       "      <td>Grand Village</td>\n",
       "      <td>No</td>\n",
       "      <td>No</td>\n",
       "      <td>3.8/5</td>\n",
       "      <td>166</td>\n",
       "      <td>+91 8026612447\\r\\n+91 9901210005</td>\n",
       "      <td>Basavanagudi</td>\n",
       "      <td>Casual Dining</td>\n",
       "      <td>Panipuri, Gol Gappe</td>\n",
       "      <td>North Indian, Rajasthani</td>\n",
       "      <td>600</td>\n",
       "      <td>[('Rated 4.0', 'RATED\\n  Very good restaurant ...</td>\n",
       "      <td>[]</td>\n",
       "      <td>Buffet</td>\n",
       "      <td>Banashankari</td>\n",
       "    </tr>\n",
       "  </tbody>\n",
       "</table>\n",
       "</div>"
      ],
      "text/plain": [
       "                                                 url  \\\n",
       "0  https://www.zomato.com/bangalore/jalsa-banasha...   \n",
       "1  https://www.zomato.com/bangalore/spice-elephan...   \n",
       "2  https://www.zomato.com/SanchurroBangalore?cont...   \n",
       "3  https://www.zomato.com/bangalore/addhuri-udupi...   \n",
       "4  https://www.zomato.com/bangalore/grand-village...   \n",
       "\n",
       "                                             address                   name  \\\n",
       "0  942, 21st Main Road, 2nd Stage, Banashankari, ...                  Jalsa   \n",
       "1  2nd Floor, 80 Feet Road, Near Big Bazaar, 6th ...         Spice Elephant   \n",
       "2  1112, Next to KIMS Medical College, 17th Cross...        San Churro Cafe   \n",
       "3  1st Floor, Annakuteera, 3rd Stage, Banashankar...  Addhuri Udupi Bhojana   \n",
       "4  10, 3rd Floor, Lakshmi Associates, Gandhi Baza...          Grand Village   \n",
       "\n",
       "  online_order book_table   rate  votes                             phone  \\\n",
       "0          Yes        Yes  4.1/5    775    080 42297555\\r\\n+91 9743772233   \n",
       "1          Yes         No  4.1/5    787                      080 41714161   \n",
       "2          Yes         No  3.8/5    918                    +91 9663487993   \n",
       "3           No         No  3.7/5     88                    +91 9620009302   \n",
       "4           No         No  3.8/5    166  +91 8026612447\\r\\n+91 9901210005   \n",
       "\n",
       "       location            rest_type  \\\n",
       "0  Banashankari        Casual Dining   \n",
       "1  Banashankari        Casual Dining   \n",
       "2  Banashankari  Cafe, Casual Dining   \n",
       "3  Banashankari          Quick Bites   \n",
       "4  Basavanagudi        Casual Dining   \n",
       "\n",
       "                                          dish_liked  \\\n",
       "0  Pasta, Lunch Buffet, Masala Papad, Paneer Laja...   \n",
       "1  Momos, Lunch Buffet, Chocolate Nirvana, Thai G...   \n",
       "2  Churros, Cannelloni, Minestrone Soup, Hot Choc...   \n",
       "3                                        Masala Dosa   \n",
       "4                                Panipuri, Gol Gappe   \n",
       "\n",
       "                         cuisines approx_cost(for two people)  \\\n",
       "0  North Indian, Mughlai, Chinese                         800   \n",
       "1     Chinese, North Indian, Thai                         800   \n",
       "2          Cafe, Mexican, Italian                         800   \n",
       "3      South Indian, North Indian                         300   \n",
       "4        North Indian, Rajasthani                         600   \n",
       "\n",
       "                                        reviews_list menu_item  \\\n",
       "0  [('Rated 4.0', 'RATED\\n  A beautiful place to ...        []   \n",
       "1  [('Rated 4.0', 'RATED\\n  Had been here for din...        []   \n",
       "2  [('Rated 3.0', \"RATED\\n  Ambience is not that ...        []   \n",
       "3  [('Rated 4.0', \"RATED\\n  Great food and proper...        []   \n",
       "4  [('Rated 4.0', 'RATED\\n  Very good restaurant ...        []   \n",
       "\n",
       "  listed_in(type) listed_in(city)  \n",
       "0          Buffet    Banashankari  \n",
       "1          Buffet    Banashankari  \n",
       "2          Buffet    Banashankari  \n",
       "3          Buffet    Banashankari  \n",
       "4          Buffet    Banashankari  "
      ]
     },
     "execution_count": 5,
     "metadata": {},
     "output_type": "execute_result"
    }
   ],
   "source": [
    "df.head(5)"
   ]
  },
  {
   "cell_type": "markdown",
   "id": "3a4e3312",
   "metadata": {},
   "source": [
    "## BASIC EDA"
   ]
  },
  {
   "cell_type": "markdown",
   "id": "f1c8f7ed",
   "metadata": {},
   "source": [
    "## drop the columns....."
   ]
  },
  {
   "cell_type": "code",
   "execution_count": 6,
   "id": "e43aeea6",
   "metadata": {},
   "outputs": [],
   "source": [
    "df.drop(['url','phone','dish_liked'],axis=1,inplace=True)"
   ]
  },
  {
   "cell_type": "markdown",
   "id": "5bf1896a",
   "metadata": {},
   "source": [
    "## null value percentage..."
   ]
  },
  {
   "cell_type": "code",
   "execution_count": 7,
   "id": "2a5b37e7",
   "metadata": {
    "scrolled": true
   },
   "outputs": [
    {
     "data": {
      "text/plain": [
       "address                         0.000000\n",
       "name                            0.000000\n",
       "online_order                    0.000000\n",
       "book_table                      0.000000\n",
       "rate                           15.033741\n",
       "votes                           0.000000\n",
       "location                        0.040606\n",
       "rest_type                       0.438927\n",
       "cuisines                        0.087012\n",
       "approx_cost(for two people)     0.669026\n",
       "reviews_list                    0.000000\n",
       "menu_item                       0.000000\n",
       "listed_in(type)                 0.000000\n",
       "listed_in(city)                 0.000000\n",
       "dtype: float64"
      ]
     },
     "execution_count": 7,
     "metadata": {},
     "output_type": "execute_result"
    }
   ],
   "source": [
    "df.isnull().sum()/df.shape[0]*100"
   ]
  },
  {
   "cell_type": "markdown",
   "id": "689ba057",
   "metadata": {},
   "source": [
    "## null value remove...."
   ]
  },
  {
   "cell_type": "code",
   "execution_count": 8,
   "id": "fa2e9d85",
   "metadata": {
    "scrolled": true
   },
   "outputs": [
    {
     "data": {
      "text/plain": [
       "(51717, 14)"
      ]
     },
     "execution_count": 8,
     "metadata": {},
     "output_type": "execute_result"
    }
   ],
   "source": [
    "df.shape"
   ]
  },
  {
   "cell_type": "code",
   "execution_count": 9,
   "id": "242efd71",
   "metadata": {},
   "outputs": [],
   "source": [
    "df.dropna(how=\"any\",inplace=True)"
   ]
  },
  {
   "cell_type": "code",
   "execution_count": 10,
   "id": "b820d3ff",
   "metadata": {
    "scrolled": false
   },
   "outputs": [
    {
     "data": {
      "text/plain": [
       "address                        0\n",
       "name                           0\n",
       "online_order                   0\n",
       "book_table                     0\n",
       "rate                           0\n",
       "votes                          0\n",
       "location                       0\n",
       "rest_type                      0\n",
       "cuisines                       0\n",
       "approx_cost(for two people)    0\n",
       "reviews_list                   0\n",
       "menu_item                      0\n",
       "listed_in(type)                0\n",
       "listed_in(city)                0\n",
       "dtype: int64"
      ]
     },
     "execution_count": 10,
     "metadata": {},
     "output_type": "execute_result"
    }
   ],
   "source": [
    "df.isnull().sum()"
   ]
  },
  {
   "cell_type": "code",
   "execution_count": 11,
   "id": "a04cdd8f",
   "metadata": {
    "scrolled": true
   },
   "outputs": [],
   "source": [
    "df.reset_index(inplace=True)"
   ]
  },
  {
   "cell_type": "code",
   "execution_count": 12,
   "id": "f4b2e18b",
   "metadata": {},
   "outputs": [],
   "source": [
    "df.drop('index',axis=1,inplace=True)"
   ]
  },
  {
   "cell_type": "code",
   "execution_count": 13,
   "id": "4d30b622",
   "metadata": {
    "scrolled": true
   },
   "outputs": [
    {
     "data": {
      "text/plain": [
       "(43533, 14)"
      ]
     },
     "execution_count": 13,
     "metadata": {},
     "output_type": "execute_result"
    }
   ],
   "source": [
    "df.shape"
   ]
  },
  {
   "cell_type": "code",
   "execution_count": 14,
   "id": "f966803b",
   "metadata": {},
   "outputs": [],
   "source": [
    "### after null value remove we are getting 43533 observation..."
   ]
  },
  {
   "cell_type": "markdown",
   "id": "a7f98f17",
   "metadata": {},
   "source": [
    "## cost feature..."
   ]
  },
  {
   "cell_type": "code",
   "execution_count": 15,
   "id": "a9f50b0d",
   "metadata": {},
   "outputs": [
    {
     "data": {
      "text/plain": [
       "array(['800', '300', '600', '700', '550', '500', '450', '650', '400',\n",
       "       '900', '200', '750', '150', '850', '100', '1,200', '350', '250',\n",
       "       '950', '1,000', '1,500', '1,300', '199', '80', '1,100', '160',\n",
       "       '1,600', '230', '130', '1,700', '1,400', '1,350', '2,200', '2,000',\n",
       "       '1,800', '1,900', '180', '330', '2,500', '2,100', '3,000', '2,800',\n",
       "       '3,400', '50', '40', '1,250', '3,500', '4,000', '2,400', '2,600',\n",
       "       '1,450', '70', '3,200', '560', '240', '360', '6,000', '1,050',\n",
       "       '2,300', '4,100', '120', '5,000', '3,700', '1,650', '2,700',\n",
       "       '4,500'], dtype=object)"
      ]
     },
     "execution_count": 15,
     "metadata": {},
     "output_type": "execute_result"
    }
   ],
   "source": [
    "df['approx_cost(for two people)'].unique()"
   ]
  },
  {
   "cell_type": "code",
   "execution_count": 16,
   "id": "6d8f2e87",
   "metadata": {},
   "outputs": [],
   "source": [
    "df['approx_cost(for two people)']=df['approx_cost(for two people)'].apply(lambda x:str(x).replace(',',''))\n"
   ]
  },
  {
   "cell_type": "code",
   "execution_count": 17,
   "id": "ac8be62f",
   "metadata": {},
   "outputs": [],
   "source": [
    "df['approx_cost(for two people)']=df['approx_cost(for two people)'].astype('float64')"
   ]
  },
  {
   "cell_type": "code",
   "execution_count": null,
   "id": "ce9216fa",
   "metadata": {},
   "outputs": [],
   "source": []
  },
  {
   "cell_type": "markdown",
   "id": "05fba4c8",
   "metadata": {},
   "source": [
    "## rest_type..."
   ]
  },
  {
   "cell_type": "code",
   "execution_count": 18,
   "id": "07ef1dee",
   "metadata": {},
   "outputs": [
    {
     "data": {
      "text/plain": [
       "87"
      ]
     },
     "execution_count": 18,
     "metadata": {},
     "output_type": "execute_result"
    }
   ],
   "source": [
    "df['rest_type'].nunique()"
   ]
  },
  {
   "cell_type": "code",
   "execution_count": 19,
   "id": "e51d3b30",
   "metadata": {},
   "outputs": [],
   "source": [
    "df['rest_type']=df['rest_type'].str.lower()\n",
    "df['rest_type']=df['rest_type'].str.replace(\" \",'')"
   ]
  },
  {
   "cell_type": "code",
   "execution_count": 20,
   "id": "bcbe8f28",
   "metadata": {},
   "outputs": [
    {
     "data": {
      "text/plain": [
       "87"
      ]
     },
     "execution_count": 20,
     "metadata": {},
     "output_type": "execute_result"
    }
   ],
   "source": [
    "df['rest_type'].nunique()"
   ]
  },
  {
   "cell_type": "code",
   "execution_count": 21,
   "id": "7b4df1a4",
   "metadata": {},
   "outputs": [],
   "source": [
    "#df[['rest_type_1','rest_type_2']]=df['rest_type'].str.split(',',expand=True)"
   ]
  },
  {
   "cell_type": "code",
   "execution_count": 22,
   "id": "0fa63931",
   "metadata": {},
   "outputs": [],
   "source": [
    "#df['rest_type_1'].nunique()"
   ]
  },
  {
   "cell_type": "code",
   "execution_count": 23,
   "id": "3c9e7fe5",
   "metadata": {},
   "outputs": [],
   "source": [
    "#df['rest_type_2'].nunique()"
   ]
  },
  {
   "cell_type": "markdown",
   "id": "63330c88",
   "metadata": {},
   "source": [
    "## Rate..."
   ]
  },
  {
   "cell_type": "code",
   "execution_count": 24,
   "id": "abc5e084",
   "metadata": {},
   "outputs": [],
   "source": [
    "df['rate']=df['rate'].apply(lambda x:str(x).split('/')[0])\n"
   ]
  },
  {
   "cell_type": "code",
   "execution_count": 25,
   "id": "479b89ef",
   "metadata": {},
   "outputs": [],
   "source": [
    "#df['rate_1']=df['rate'].replace('_',None)"
   ]
  },
  {
   "cell_type": "code",
   "execution_count": 26,
   "id": "0c9527bd",
   "metadata": {
    "scrolled": true
   },
   "outputs": [],
   "source": [
    "#df_1.shape"
   ]
  },
  {
   "cell_type": "code",
   "execution_count": 27,
   "id": "20136af2",
   "metadata": {},
   "outputs": [
    {
     "data": {
      "text/plain": [
       "array(['4.1', '3.8', '3.7', '3.6', '4.6', '4.0', '4.2', '3.9', '3.1',\n",
       "       '3.0', '3.2', '3.3', '2.8', '4.4', '4.3', 'NEW', '2.9', '3.5',\n",
       "       '2.6', '3.8 ', '3.4', '4.5', '2.5', '2.7', '4.7', '2.4', '2.2',\n",
       "       '2.3', '3.4 ', '-', '3.6 ', '4.8', '3.9 ', '4.2 ', '4.0 ', '4.1 ',\n",
       "       '3.7 ', '3.1 ', '2.9 ', '3.3 ', '2.8 ', '3.5 ', '2.7 ', '2.5 ',\n",
       "       '3.2 ', '2.6 ', '4.5 ', '4.3 ', '4.4 ', '4.9', '2.1', '2.0', '1.8',\n",
       "       '4.6 ', '4.9 ', '3.0 ', '4.8 ', '2.3 ', '4.7 ', '2.4 ', '2.1 ',\n",
       "       '2.2 ', '2.0 ', '1.8 '], dtype=object)"
      ]
     },
     "execution_count": 27,
     "metadata": {},
     "output_type": "execute_result"
    }
   ],
   "source": [
    "df['rate'].unique()"
   ]
  },
  {
   "cell_type": "code",
   "execution_count": 28,
   "id": "99f54709",
   "metadata": {},
   "outputs": [],
   "source": [
    "#df.shape"
   ]
  },
  {
   "cell_type": "code",
   "execution_count": 29,
   "id": "b203192f",
   "metadata": {
    "scrolled": true
   },
   "outputs": [],
   "source": [
    "df=df.loc[df['rate']!='-']"
   ]
  },
  {
   "cell_type": "code",
   "execution_count": 30,
   "id": "ea4675eb",
   "metadata": {},
   "outputs": [],
   "source": [
    "df=df.loc[df['rate']!='NEW']"
   ]
  },
  {
   "cell_type": "code",
   "execution_count": 31,
   "id": "98021fe0",
   "metadata": {},
   "outputs": [
    {
     "data": {
      "text/plain": [
       "(41263, 14)"
      ]
     },
     "execution_count": 31,
     "metadata": {},
     "output_type": "execute_result"
    }
   ],
   "source": [
    "df.shape"
   ]
  },
  {
   "cell_type": "code",
   "execution_count": 32,
   "id": "f30a0966",
   "metadata": {},
   "outputs": [],
   "source": [
    "df['rate']=df['rate'].astype('float64')"
   ]
  },
  {
   "cell_type": "code",
   "execution_count": 33,
   "id": "72eb14a2",
   "metadata": {},
   "outputs": [
    {
     "name": "stdout",
     "output_type": "stream",
     "text": [
      "<class 'pandas.core.frame.DataFrame'>\n",
      "Int64Index: 41263 entries, 0 to 43532\n",
      "Data columns (total 14 columns):\n",
      " #   Column                       Non-Null Count  Dtype  \n",
      "---  ------                       --------------  -----  \n",
      " 0   address                      41263 non-null  object \n",
      " 1   name                         41263 non-null  object \n",
      " 2   online_order                 41263 non-null  object \n",
      " 3   book_table                   41263 non-null  object \n",
      " 4   rate                         41263 non-null  float64\n",
      " 5   votes                        41263 non-null  int64  \n",
      " 6   location                     41263 non-null  object \n",
      " 7   rest_type                    41263 non-null  object \n",
      " 8   cuisines                     41263 non-null  object \n",
      " 9   approx_cost(for two people)  41263 non-null  float64\n",
      " 10  reviews_list                 41263 non-null  object \n",
      " 11  menu_item                    41263 non-null  object \n",
      " 12  listed_in(type)              41263 non-null  object \n",
      " 13  listed_in(city)              41263 non-null  object \n",
      "dtypes: float64(2), int64(1), object(11)\n",
      "memory usage: 4.7+ MB\n"
     ]
    }
   ],
   "source": [
    "df.info()"
   ]
  },
  {
   "cell_type": "raw",
   "id": "a6120593",
   "metadata": {},
   "source": [
    "# here we remove the the row which is not posible to convert into numeric datatype.....so we are getting observation 41263.."
   ]
  },
  {
   "cell_type": "markdown",
   "id": "b44fc021",
   "metadata": {},
   "source": [
    "## review..."
   ]
  },
  {
   "cell_type": "code",
   "execution_count": 34,
   "id": "01e7c55c",
   "metadata": {},
   "outputs": [],
   "source": [
    "#df_review=pd.DataFrame(df['reviews_list'].str.split(',',expand=True))"
   ]
  },
  {
   "cell_type": "code",
   "execution_count": 35,
   "id": "28cf0804",
   "metadata": {},
   "outputs": [],
   "source": [
    "#x_review=df['reviews_list'].str.split(')',expand=True)"
   ]
  },
  {
   "cell_type": "code",
   "execution_count": 36,
   "id": "dafda378",
   "metadata": {
    "scrolled": true
   },
   "outputs": [],
   "source": [
    "#x_review.shape"
   ]
  },
  {
   "cell_type": "code",
   "execution_count": 37,
   "id": "0a93c9b3",
   "metadata": {},
   "outputs": [],
   "source": [
    "#np.arange(0,10)"
   ]
  },
  {
   "cell_type": "code",
   "execution_count": 38,
   "id": "c195a9a8",
   "metadata": {},
   "outputs": [],
   "source": [
    "#x_review.drop(x_review.columns[[np.arange(12,4536)]],axis=1)"
   ]
  },
  {
   "cell_type": "code",
   "execution_count": 39,
   "id": "994a0893",
   "metadata": {},
   "outputs": [],
   "source": [
    "#df[df.duplicated()]"
   ]
  },
  {
   "cell_type": "markdown",
   "id": "ea2da8d6",
   "metadata": {},
   "source": [
    "## cuisines"
   ]
  },
  {
   "cell_type": "code",
   "execution_count": 40,
   "id": "9b5ecfbf",
   "metadata": {},
   "outputs": [
    {
     "data": {
      "text/plain": [
       "2367"
      ]
     },
     "execution_count": 40,
     "metadata": {},
     "output_type": "execute_result"
    }
   ],
   "source": [
    "df['cuisines'].nunique()"
   ]
  },
  {
   "cell_type": "code",
   "execution_count": null,
   "id": "7888ef14",
   "metadata": {
    "scrolled": true
   },
   "outputs": [],
   "source": []
  },
  {
   "cell_type": "code",
   "execution_count": 41,
   "id": "749e46c9",
   "metadata": {},
   "outputs": [],
   "source": [
    "#cuisies=df['cuisines'].str.split(',',expand=True)"
   ]
  },
  {
   "cell_type": "code",
   "execution_count": 42,
   "id": "a10d9fae",
   "metadata": {},
   "outputs": [],
   "source": [
    "#cuisies.isnull().sum()/cuisies.shape[0]*100"
   ]
  },
  {
   "cell_type": "code",
   "execution_count": 43,
   "id": "6af5fdd8",
   "metadata": {},
   "outputs": [],
   "source": [
    "#cuisies.drop(columns=np.arange(3,8),inplace=True)"
   ]
  },
  {
   "cell_type": "code",
   "execution_count": 44,
   "id": "af57a5c5",
   "metadata": {},
   "outputs": [],
   "source": [
    "#cuisies"
   ]
  },
  {
   "cell_type": "code",
   "execution_count": null,
   "id": "5cde7e47",
   "metadata": {
    "scrolled": true
   },
   "outputs": [],
   "source": []
  },
  {
   "cell_type": "markdown",
   "id": "abb87345",
   "metadata": {},
   "source": [
    "## online_order...."
   ]
  },
  {
   "cell_type": "code",
   "execution_count": 45,
   "id": "f6b7f018",
   "metadata": {},
   "outputs": [
    {
     "data": {
      "text/plain": [
       "0        1\n",
       "1        1\n",
       "2        1\n",
       "3        0\n",
       "4        0\n",
       "        ..\n",
       "43528    0\n",
       "43529    0\n",
       "43530    0\n",
       "43531    0\n",
       "43532    0\n",
       "Name: online_order, Length: 41263, dtype: int64"
      ]
     },
     "execution_count": 45,
     "metadata": {},
     "output_type": "execute_result"
    }
   ],
   "source": [
    "df['online_order'].replace(('Yes','No'),(1,0),inplace=True)\n",
    "df['online_order']"
   ]
  },
  {
   "cell_type": "markdown",
   "id": "6ffc8220",
   "metadata": {},
   "source": [
    "## book table...."
   ]
  },
  {
   "cell_type": "code",
   "execution_count": 46,
   "id": "81c3133d",
   "metadata": {},
   "outputs": [
    {
     "data": {
      "text/plain": [
       "0        1\n",
       "1        0\n",
       "2        0\n",
       "3        0\n",
       "4        0\n",
       "        ..\n",
       "43528    0\n",
       "43529    0\n",
       "43530    0\n",
       "43531    1\n",
       "43532    0\n",
       "Name: book_table, Length: 41263, dtype: int64"
      ]
     },
     "execution_count": 46,
     "metadata": {},
     "output_type": "execute_result"
    }
   ],
   "source": [
    "df['book_table'].replace(('Yes','No'),(1,0),inplace=True)\n",
    "df['book_table']"
   ]
  },
  {
   "cell_type": "code",
   "execution_count": 47,
   "id": "8f9eb423",
   "metadata": {
    "scrolled": true
   },
   "outputs": [
    {
     "name": "stdout",
     "output_type": "stream",
     "text": [
      "<class 'pandas.core.frame.DataFrame'>\n",
      "Int64Index: 41263 entries, 0 to 43532\n",
      "Data columns (total 14 columns):\n",
      " #   Column                       Non-Null Count  Dtype  \n",
      "---  ------                       --------------  -----  \n",
      " 0   address                      41263 non-null  object \n",
      " 1   name                         41263 non-null  object \n",
      " 2   online_order                 41263 non-null  int64  \n",
      " 3   book_table                   41263 non-null  int64  \n",
      " 4   rate                         41263 non-null  float64\n",
      " 5   votes                        41263 non-null  int64  \n",
      " 6   location                     41263 non-null  object \n",
      " 7   rest_type                    41263 non-null  object \n",
      " 8   cuisines                     41263 non-null  object \n",
      " 9   approx_cost(for two people)  41263 non-null  float64\n",
      " 10  reviews_list                 41263 non-null  object \n",
      " 11  menu_item                    41263 non-null  object \n",
      " 12  listed_in(type)              41263 non-null  object \n",
      " 13  listed_in(city)              41263 non-null  object \n",
      "dtypes: float64(2), int64(3), object(9)\n",
      "memory usage: 4.7+ MB\n"
     ]
    }
   ],
   "source": [
    "df.info()"
   ]
  },
  {
   "cell_type": "markdown",
   "id": "a61a0ff9",
   "metadata": {},
   "source": [
    "## name......"
   ]
  },
  {
   "cell_type": "code",
   "execution_count": 48,
   "id": "8226a69e",
   "metadata": {},
   "outputs": [],
   "source": [
    "df['name']=df.name.str.lower()"
   ]
  },
  {
   "cell_type": "code",
   "execution_count": 49,
   "id": "06a2edc6",
   "metadata": {},
   "outputs": [],
   "source": [
    "###################################"
   ]
  },
  {
   "cell_type": "markdown",
   "id": "70389608",
   "metadata": {},
   "source": [
    "## factorize....."
   ]
  },
  {
   "cell_type": "code",
   "execution_count": 50,
   "id": "d6f2ac6d",
   "metadata": {},
   "outputs": [
    {
     "data": {
      "text/plain": [
       "(41263, 14)"
      ]
     },
     "execution_count": 50,
     "metadata": {},
     "output_type": "execute_result"
    }
   ],
   "source": [
    "df_fact=df.copy()\n",
    "df_fact.shape"
   ]
  },
  {
   "cell_type": "code",
   "execution_count": 51,
   "id": "3e9fc74e",
   "metadata": {
    "scrolled": true
   },
   "outputs": [
    {
     "data": {
      "text/plain": [
       "(41263, 14)"
      ]
     },
     "execution_count": 51,
     "metadata": {},
     "output_type": "execute_result"
    }
   ],
   "source": [
    "df.shape"
   ]
  },
  {
   "cell_type": "markdown",
   "id": "1ed1189f",
   "metadata": {},
   "source": [
    "### rest_type fact"
   ]
  },
  {
   "cell_type": "code",
   "execution_count": 52,
   "id": "eb70c4b0",
   "metadata": {},
   "outputs": [
    {
     "data": {
      "text/plain": [
       "87"
      ]
     },
     "execution_count": 52,
     "metadata": {},
     "output_type": "execute_result"
    }
   ],
   "source": [
    "df_fact.rest_type.nunique()"
   ]
  },
  {
   "cell_type": "code",
   "execution_count": 53,
   "id": "4547ad66",
   "metadata": {
    "scrolled": true
   },
   "outputs": [
    {
     "data": {
      "text/plain": [
       "0         0\n",
       "1         0\n",
       "2         1\n",
       "3         2\n",
       "4         0\n",
       "         ..\n",
       "43528    28\n",
       "43529    28\n",
       "43530    17\n",
       "43531    17\n",
       "43532    33\n",
       "Name: rest_type, Length: 41263, dtype: int64"
      ]
     },
     "execution_count": 53,
     "metadata": {},
     "output_type": "execute_result"
    }
   ],
   "source": [
    "df_fact['rest_type']=df_fact['rest_type'].factorize()[0]\n",
    "df_fact['rest_type']"
   ]
  },
  {
   "cell_type": "markdown",
   "id": "dcc47ed1",
   "metadata": {},
   "source": [
    "## #######"
   ]
  },
  {
   "cell_type": "code",
   "execution_count": 54,
   "id": "10d3e071",
   "metadata": {},
   "outputs": [
    {
     "data": {
      "text/plain": [
       "8792"
      ]
     },
     "execution_count": 54,
     "metadata": {},
     "output_type": "execute_result"
    }
   ],
   "source": [
    "df_fact.address.nunique()"
   ]
  },
  {
   "cell_type": "code",
   "execution_count": 55,
   "id": "6012c083",
   "metadata": {},
   "outputs": [
    {
     "data": {
      "text/plain": [
       "92"
      ]
     },
     "execution_count": 55,
     "metadata": {},
     "output_type": "execute_result"
    }
   ],
   "source": [
    "df_fact.location.nunique()"
   ]
  },
  {
   "cell_type": "markdown",
   "id": "150491e5",
   "metadata": {},
   "source": [
    "### location..."
   ]
  },
  {
   "cell_type": "code",
   "execution_count": 56,
   "id": "0fc175f4",
   "metadata": {},
   "outputs": [],
   "source": [
    "df_fact['location']=df_fact['location'].factorize()[0]"
   ]
  },
  {
   "cell_type": "code",
   "execution_count": 57,
   "id": "d3acd74d",
   "metadata": {
    "scrolled": true
   },
   "outputs": [
    {
     "data": {
      "text/plain": [
       "92"
      ]
     },
     "execution_count": 57,
     "metadata": {},
     "output_type": "execute_result"
    }
   ],
   "source": [
    "df_fact.location.nunique()"
   ]
  },
  {
   "cell_type": "markdown",
   "id": "d5820538",
   "metadata": {},
   "source": [
    "## ##########"
   ]
  },
  {
   "cell_type": "markdown",
   "id": "2770e505",
   "metadata": {},
   "source": [
    "### listed_in fact"
   ]
  },
  {
   "cell_type": "code",
   "execution_count": 58,
   "id": "a034f5a2",
   "metadata": {
    "scrolled": true
   },
   "outputs": [
    {
     "data": {
      "text/plain": [
       "7"
      ]
     },
     "execution_count": 58,
     "metadata": {},
     "output_type": "execute_result"
    }
   ],
   "source": [
    "df_fact['listed_in(type)'].nunique()"
   ]
  },
  {
   "cell_type": "code",
   "execution_count": 59,
   "id": "8ff3ae7a",
   "metadata": {},
   "outputs": [
    {
     "data": {
      "text/plain": [
       "30"
      ]
     },
     "execution_count": 59,
     "metadata": {},
     "output_type": "execute_result"
    }
   ],
   "source": [
    "df_fact['listed_in(city)'].nunique()"
   ]
  },
  {
   "cell_type": "code",
   "execution_count": 60,
   "id": "f01b52b5",
   "metadata": {},
   "outputs": [],
   "source": [
    "df_fact['listed_in(type)']=df_fact['listed_in(type)'].factorize()[0]\n",
    "df_fact['listed_in(city)']=df_fact['listed_in(city)'].factorize()[0]"
   ]
  },
  {
   "cell_type": "markdown",
   "id": "4b4df098",
   "metadata": {},
   "source": [
    "### cuisines fact"
   ]
  },
  {
   "cell_type": "code",
   "execution_count": 61,
   "id": "d10edc94",
   "metadata": {},
   "outputs": [
    {
     "data": {
      "text/plain": [
       "2367"
      ]
     },
     "execution_count": 61,
     "metadata": {},
     "output_type": "execute_result"
    }
   ],
   "source": [
    "df_fact.cuisines.nunique()"
   ]
  },
  {
   "cell_type": "code",
   "execution_count": 62,
   "id": "ad583d2f",
   "metadata": {},
   "outputs": [],
   "source": [
    "df_fact['cuisines']=df_fact['cuisines'].factorize()[0]"
   ]
  },
  {
   "cell_type": "markdown",
   "id": "f23d68e3",
   "metadata": {},
   "source": [
    "### menu item fact...."
   ]
  },
  {
   "cell_type": "code",
   "execution_count": 63,
   "id": "3e4d7c99",
   "metadata": {},
   "outputs": [],
   "source": [
    "#df_fact.shape"
   ]
  },
  {
   "cell_type": "code",
   "execution_count": 64,
   "id": "0000230d",
   "metadata": {},
   "outputs": [],
   "source": [
    "#df_fact['menu_item']=df_fact['menu_item'].str.lower()"
   ]
  },
  {
   "cell_type": "code",
   "execution_count": 65,
   "id": "40a23bdc",
   "metadata": {},
   "outputs": [],
   "source": [
    "#df_fact['menu_item'].nunique()"
   ]
  },
  {
   "cell_type": "code",
   "execution_count": 66,
   "id": "70e2cde5",
   "metadata": {},
   "outputs": [],
   "source": [
    "#df_fact['menu_item']=df_fact['menu_item'].factorize()[0]"
   ]
  },
  {
   "cell_type": "code",
   "execution_count": 67,
   "id": "d0d8efc9",
   "metadata": {},
   "outputs": [],
   "source": [
    "#df_fact['menu_item'].unique()"
   ]
  },
  {
   "cell_type": "code",
   "execution_count": 68,
   "id": "c74e8fd1",
   "metadata": {
    "scrolled": true
   },
   "outputs": [
    {
     "data": {
      "text/html": [
       "<div>\n",
       "<style scoped>\n",
       "    .dataframe tbody tr th:only-of-type {\n",
       "        vertical-align: middle;\n",
       "    }\n",
       "\n",
       "    .dataframe tbody tr th {\n",
       "        vertical-align: top;\n",
       "    }\n",
       "\n",
       "    .dataframe thead th {\n",
       "        text-align: right;\n",
       "    }\n",
       "</style>\n",
       "<table border=\"1\" class=\"dataframe\">\n",
       "  <thead>\n",
       "    <tr style=\"text-align: right;\">\n",
       "      <th></th>\n",
       "      <th>address</th>\n",
       "      <th>name</th>\n",
       "      <th>online_order</th>\n",
       "      <th>book_table</th>\n",
       "      <th>rate</th>\n",
       "      <th>votes</th>\n",
       "      <th>location</th>\n",
       "      <th>rest_type</th>\n",
       "      <th>cuisines</th>\n",
       "      <th>approx_cost(for two people)</th>\n",
       "      <th>reviews_list</th>\n",
       "      <th>menu_item</th>\n",
       "      <th>listed_in(type)</th>\n",
       "      <th>listed_in(city)</th>\n",
       "    </tr>\n",
       "  </thead>\n",
       "  <tbody>\n",
       "    <tr>\n",
       "      <th>0</th>\n",
       "      <td>942, 21st Main Road, 2nd Stage, Banashankari, ...</td>\n",
       "      <td>jalsa</td>\n",
       "      <td>1</td>\n",
       "      <td>1</td>\n",
       "      <td>4.1</td>\n",
       "      <td>775</td>\n",
       "      <td>0</td>\n",
       "      <td>0</td>\n",
       "      <td>0</td>\n",
       "      <td>800.0</td>\n",
       "      <td>[('Rated 4.0', 'RATED\\n  A beautiful place to ...</td>\n",
       "      <td>[]</td>\n",
       "      <td>0</td>\n",
       "      <td>0</td>\n",
       "    </tr>\n",
       "    <tr>\n",
       "      <th>1</th>\n",
       "      <td>2nd Floor, 80 Feet Road, Near Big Bazaar, 6th ...</td>\n",
       "      <td>spice elephant</td>\n",
       "      <td>1</td>\n",
       "      <td>0</td>\n",
       "      <td>4.1</td>\n",
       "      <td>787</td>\n",
       "      <td>0</td>\n",
       "      <td>0</td>\n",
       "      <td>1</td>\n",
       "      <td>800.0</td>\n",
       "      <td>[('Rated 4.0', 'RATED\\n  Had been here for din...</td>\n",
       "      <td>[]</td>\n",
       "      <td>0</td>\n",
       "      <td>0</td>\n",
       "    </tr>\n",
       "    <tr>\n",
       "      <th>2</th>\n",
       "      <td>1112, Next to KIMS Medical College, 17th Cross...</td>\n",
       "      <td>san churro cafe</td>\n",
       "      <td>1</td>\n",
       "      <td>0</td>\n",
       "      <td>3.8</td>\n",
       "      <td>918</td>\n",
       "      <td>0</td>\n",
       "      <td>1</td>\n",
       "      <td>2</td>\n",
       "      <td>800.0</td>\n",
       "      <td>[('Rated 3.0', \"RATED\\n  Ambience is not that ...</td>\n",
       "      <td>[]</td>\n",
       "      <td>0</td>\n",
       "      <td>0</td>\n",
       "    </tr>\n",
       "    <tr>\n",
       "      <th>3</th>\n",
       "      <td>1st Floor, Annakuteera, 3rd Stage, Banashankar...</td>\n",
       "      <td>addhuri udupi bhojana</td>\n",
       "      <td>0</td>\n",
       "      <td>0</td>\n",
       "      <td>3.7</td>\n",
       "      <td>88</td>\n",
       "      <td>0</td>\n",
       "      <td>2</td>\n",
       "      <td>3</td>\n",
       "      <td>300.0</td>\n",
       "      <td>[('Rated 4.0', \"RATED\\n  Great food and proper...</td>\n",
       "      <td>[]</td>\n",
       "      <td>0</td>\n",
       "      <td>0</td>\n",
       "    </tr>\n",
       "    <tr>\n",
       "      <th>4</th>\n",
       "      <td>10, 3rd Floor, Lakshmi Associates, Gandhi Baza...</td>\n",
       "      <td>grand village</td>\n",
       "      <td>0</td>\n",
       "      <td>0</td>\n",
       "      <td>3.8</td>\n",
       "      <td>166</td>\n",
       "      <td>1</td>\n",
       "      <td>0</td>\n",
       "      <td>4</td>\n",
       "      <td>600.0</td>\n",
       "      <td>[('Rated 4.0', 'RATED\\n  Very good restaurant ...</td>\n",
       "      <td>[]</td>\n",
       "      <td>0</td>\n",
       "      <td>0</td>\n",
       "    </tr>\n",
       "  </tbody>\n",
       "</table>\n",
       "</div>"
      ],
      "text/plain": [
       "                                             address                   name  \\\n",
       "0  942, 21st Main Road, 2nd Stage, Banashankari, ...                  jalsa   \n",
       "1  2nd Floor, 80 Feet Road, Near Big Bazaar, 6th ...         spice elephant   \n",
       "2  1112, Next to KIMS Medical College, 17th Cross...        san churro cafe   \n",
       "3  1st Floor, Annakuteera, 3rd Stage, Banashankar...  addhuri udupi bhojana   \n",
       "4  10, 3rd Floor, Lakshmi Associates, Gandhi Baza...          grand village   \n",
       "\n",
       "   online_order  book_table  rate  votes  location  rest_type  cuisines  \\\n",
       "0             1           1   4.1    775         0          0         0   \n",
       "1             1           0   4.1    787         0          0         1   \n",
       "2             1           0   3.8    918         0          1         2   \n",
       "3             0           0   3.7     88         0          2         3   \n",
       "4             0           0   3.8    166         1          0         4   \n",
       "\n",
       "   approx_cost(for two people)  \\\n",
       "0                        800.0   \n",
       "1                        800.0   \n",
       "2                        800.0   \n",
       "3                        300.0   \n",
       "4                        600.0   \n",
       "\n",
       "                                        reviews_list menu_item  \\\n",
       "0  [('Rated 4.0', 'RATED\\n  A beautiful place to ...        []   \n",
       "1  [('Rated 4.0', 'RATED\\n  Had been here for din...        []   \n",
       "2  [('Rated 3.0', \"RATED\\n  Ambience is not that ...        []   \n",
       "3  [('Rated 4.0', \"RATED\\n  Great food and proper...        []   \n",
       "4  [('Rated 4.0', 'RATED\\n  Very good restaurant ...        []   \n",
       "\n",
       "   listed_in(type)  listed_in(city)  \n",
       "0                0                0  \n",
       "1                0                0  \n",
       "2                0                0  \n",
       "3                0                0  \n",
       "4                0                0  "
      ]
     },
     "execution_count": 68,
     "metadata": {},
     "output_type": "execute_result"
    }
   ],
   "source": [
    "df_fact.head()"
   ]
  },
  {
   "cell_type": "markdown",
   "id": "d3268de0",
   "metadata": {},
   "source": [
    "## correlation......"
   ]
  },
  {
   "cell_type": "code",
   "execution_count": 69,
   "id": "9073bce4",
   "metadata": {
    "scrolled": false
   },
   "outputs": [
    {
     "data": {
      "text/plain": [
       "<AxesSubplot:>"
      ]
     },
     "execution_count": 69,
     "metadata": {},
     "output_type": "execute_result"
    },
    {
     "data": {
      "image/png": "[encoded data removed]",
      "text/plain": [
       "<Figure size 1080x360 with 2 Axes>"
      ]
     },
     "metadata": {
      "needs_background": "light"
     },
     "output_type": "display_data"
    }
   ],
   "source": [
    "plt.figure(figsize=(15,5))\n",
    "\n",
    "sns.heatmap(df_fact.corr(),annot=True)"
   ]
  },
  {
   "cell_type": "code",
   "execution_count": 70,
   "id": "c984c9b5",
   "metadata": {
    "scrolled": false
   },
   "outputs": [
    {
     "data": {
      "text/plain": [
       "<AxesSubplot:>"
      ]
     },
     "execution_count": 70,
     "metadata": {},
     "output_type": "execute_result"
    },
    {
     "data": {
      "image/png": "[encoded data removed]",
      "text/plain": [
       "<Figure size 1080x360 with 2 Axes>"
      ]
     },
     "metadata": {
      "needs_background": "light"
     },
     "output_type": "display_data"
    }
   ],
   "source": [
    "plt.figure(figsize=(15,5))\n",
    "\n",
    "sns.heatmap(df_fact.corr()[np.abs(df_fact.corr()>0.6)],annot=True)"
   ]
  },
  {
   "cell_type": "raw",
   "id": "4b346f16",
   "metadata": {},
   "source": [
    "## inferane: here we see that no any independant column highly corelates to our target variable....\n",
    "## in second heatmap we see that book_table is the feature which highly correlated to out target variable compare to other feature..."
   ]
  },
  {
   "cell_type": "code",
   "execution_count": 71,
   "id": "fae4ad5b",
   "metadata": {},
   "outputs": [],
   "source": [
    "df_fact=df_fact.reset_index()"
   ]
  },
  {
   "cell_type": "code",
   "execution_count": 72,
   "id": "76f9cecb",
   "metadata": {},
   "outputs": [],
   "source": [
    "df_fact.drop('index',axis=1,inplace=True)"
   ]
  },
  {
   "cell_type": "code",
   "execution_count": 73,
   "id": "97573ddb",
   "metadata": {},
   "outputs": [],
   "source": [
    "df_num=df_fact.select_dtypes(np.number)\n",
    "df_cat=df_fact.select_dtypes(object)"
   ]
  },
  {
   "cell_type": "markdown",
   "id": "e1a8a4a9",
   "metadata": {},
   "source": [
    "## full OLS model...."
   ]
  },
  {
   "cell_type": "code",
   "execution_count": 74,
   "id": "1945d26b",
   "metadata": {
    "scrolled": true
   },
   "outputs": [
    {
     "name": "stdout",
     "output_type": "stream",
     "text": [
      "x-train:  (28884, 9)\n",
      "y-train:  (28884,)\n",
      "x-test:  (12379, 9)\n",
      "y-test:  (12379,)\n"
     ]
    }
   ],
   "source": [
    "x_full=df_fact.drop(['address','name','reviews_list','approx_cost(for two people)','menu_item'],axis=1)\n",
    "y_full=df_fact['approx_cost(for two people)']\n",
    "\n",
    "xc_full=sm.add_constant(x_full)\n",
    "\n",
    "x_train_full,x_test_full,y_train_full,y_test_full=train_test_split(x_full,y_full,test_size=0.3,random_state=123)\n",
    "\n",
    "print('x-train: ',x_train_full.shape)\n",
    "print('y-train: ',y_train_full.shape)\n",
    "print('x-test: ',x_test_full.shape)\n",
    "print('y-test: ',y_test_full.shape)"
   ]
  },
  {
   "cell_type": "code",
   "execution_count": 75,
   "id": "0c7725e2",
   "metadata": {},
   "outputs": [],
   "source": [
    "#x_dummy=df_fact.drop(['address','name','reviews_list','approx_cost(for two people)','menu_item'],axis=1)\n",
    "#y_dummy=df_fact['approx_cost(for two people)']\n",
    "\n",
    "#------------------------------------------------------------------------xc_full=sm.add_constant(x_full)\n",
    "\n",
    "#x_train_dummy,x_test_dummy,y_train_dummy,y_test_dummy=train_test_split(x_dummy,y_dummy,test_size=0.3,random_state=123)\n",
    "\n",
    "#print('x-train: ',x_train_dummy.shape)\n",
    "#print('y-train: ',y_train_dummy.shape)\n",
    "#print('x-test: ',x_test_dummy.shape)\n",
    "#print('y-test: ',y_test_dummy.shape)"
   ]
  },
  {
   "cell_type": "code",
   "execution_count": 76,
   "id": "f3a0306b",
   "metadata": {},
   "outputs": [],
   "source": [
    "#model_dummy=sm.OLS(y_train_dummy,x_train_dummy).fit()\n",
    "#model_dummy.summary()"
   ]
  },
  {
   "cell_type": "code",
   "execution_count": 77,
   "id": "82d4d700",
   "metadata": {},
   "outputs": [],
   "source": [
    "#y_test_pred_dummy=model_full.predict(x_test_dummy)\n",
    "#y_train_pred_dummy=model_full.predict(x_train_dummy)\n",
    "\n",
    "#r2score_train_dummy=r2_score(y_train_dummy,y_train_pred_dummy)\n",
    "#r2score_test_dummy=r2_score(y_test_dummy,y_test_pred_dummy)\n",
    "\n",
    "#r2score_train_dummy"
   ]
  },
  {
   "cell_type": "markdown",
   "id": "577385c1",
   "metadata": {},
   "source": [
    "### VIF"
   ]
  },
  {
   "cell_type": "code",
   "execution_count": 78,
   "id": "2afcb7a5",
   "metadata": {},
   "outputs": [
    {
     "data": {
      "text/html": [
       "<div>\n",
       "<style scoped>\n",
       "    .dataframe tbody tr th:only-of-type {\n",
       "        vertical-align: middle;\n",
       "    }\n",
       "\n",
       "    .dataframe tbody tr th {\n",
       "        vertical-align: top;\n",
       "    }\n",
       "\n",
       "    .dataframe thead th {\n",
       "        text-align: right;\n",
       "    }\n",
       "</style>\n",
       "<table border=\"1\" class=\"dataframe\">\n",
       "  <thead>\n",
       "    <tr style=\"text-align: right;\">\n",
       "      <th></th>\n",
       "      <th>VIF_VALUE</th>\n",
       "    </tr>\n",
       "  </thead>\n",
       "  <tbody>\n",
       "    <tr>\n",
       "      <th>const</th>\n",
       "      <td>103.538533</td>\n",
       "    </tr>\n",
       "    <tr>\n",
       "      <th>rate</th>\n",
       "      <td>1.398389</td>\n",
       "    </tr>\n",
       "    <tr>\n",
       "      <th>book_table</th>\n",
       "      <td>1.363041</td>\n",
       "    </tr>\n",
       "    <tr>\n",
       "      <th>votes</th>\n",
       "      <td>1.341525</td>\n",
       "    </tr>\n",
       "    <tr>\n",
       "      <th>location</th>\n",
       "      <td>1.175093</td>\n",
       "    </tr>\n",
       "    <tr>\n",
       "      <th>listed_in(city)</th>\n",
       "      <td>1.161038</td>\n",
       "    </tr>\n",
       "    <tr>\n",
       "      <th>rest_type</th>\n",
       "      <td>1.124214</td>\n",
       "    </tr>\n",
       "    <tr>\n",
       "      <th>cuisines</th>\n",
       "      <td>1.120728</td>\n",
       "    </tr>\n",
       "    <tr>\n",
       "      <th>online_order</th>\n",
       "      <td>1.090191</td>\n",
       "    </tr>\n",
       "    <tr>\n",
       "      <th>listed_in(type)</th>\n",
       "      <td>1.085869</td>\n",
       "    </tr>\n",
       "  </tbody>\n",
       "</table>\n",
       "</div>"
      ],
      "text/plain": [
       "                  VIF_VALUE\n",
       "const            103.538533\n",
       "rate               1.398389\n",
       "book_table         1.363041\n",
       "votes              1.341525\n",
       "location           1.175093\n",
       "listed_in(city)    1.161038\n",
       "rest_type          1.124214\n",
       "cuisines           1.120728\n",
       "online_order       1.090191\n",
       "listed_in(type)    1.085869"
      ]
     },
     "execution_count": 78,
     "metadata": {},
     "output_type": "execute_result"
    }
   ],
   "source": [
    "from statsmodels.stats.outliers_influence import variance_inflation_factor as VIF\n",
    "\n",
    "vif_value=[VIF(xc_full.values,i) for i in range (xc_full.shape[1])]\n",
    "pd.DataFrame(vif_value,columns=['VIF_VALUE'],index=xc_full.columns).sort_values('VIF_VALUE',ascending=False)"
   ]
  },
  {
   "cell_type": "code",
   "execution_count": 79,
   "id": "a9430109",
   "metadata": {
    "scrolled": true
   },
   "outputs": [
    {
     "data": {
      "text/html": [
       "<table class=\"simpletable\">\n",
       "<caption>OLS Regression Results</caption>\n",
       "<tr>\n",
       "  <th>Dep. Variable:</th>    <td>approx_cost(for two people)</td> <th>  R-squared (uncentered):</th>       <td>   0.804</td>  \n",
       "</tr>\n",
       "<tr>\n",
       "  <th>Model:</th>                        <td>OLS</td>             <th>  Adj. R-squared (uncentered):</th>  <td>   0.804</td>  \n",
       "</tr>\n",
       "<tr>\n",
       "  <th>Method:</th>                  <td>Least Squares</td>        <th>  F-statistic:       </th>           <td>1.315e+04</td> \n",
       "</tr>\n",
       "<tr>\n",
       "  <th>Date:</th>                  <td>Tue, 11 Oct 2022</td>       <th>  Prob (F-statistic):</th>            <td>  0.00</td>   \n",
       "</tr>\n",
       "<tr>\n",
       "  <th>Time:</th>                      <td>15:58:53</td>           <th>  Log-Likelihood:    </th>          <td>-2.0894e+05</td>\n",
       "</tr>\n",
       "<tr>\n",
       "  <th>No. Observations:</th>           <td> 28884</td>            <th>  AIC:               </th>           <td>4.179e+05</td> \n",
       "</tr>\n",
       "<tr>\n",
       "  <th>Df Residuals:</th>               <td> 28875</td>            <th>  BIC:               </th>           <td>4.180e+05</td> \n",
       "</tr>\n",
       "<tr>\n",
       "  <th>Df Model:</th>                   <td>     9</td>            <th>                     </th>               <td> </td>     \n",
       "</tr>\n",
       "<tr>\n",
       "  <th>Covariance Type:</th>           <td>nonrobust</td>          <th>                     </th>               <td> </td>     \n",
       "</tr>\n",
       "</table>\n",
       "<table class=\"simpletable\">\n",
       "<tr>\n",
       "         <td></td>            <th>coef</th>     <th>std err</th>      <th>t</th>      <th>P>|t|</th>  <th>[0.025</th>    <th>0.975]</th>  \n",
       "</tr>\n",
       "<tr>\n",
       "  <th>online_order</th>    <td> -113.7423</td> <td>    4.312</td> <td>  -26.376</td> <td> 0.000</td> <td> -122.195</td> <td> -105.290</td>\n",
       "</tr>\n",
       "<tr>\n",
       "  <th>book_table</th>      <td>  599.3485</td> <td>    6.170</td> <td>   97.134</td> <td> 0.000</td> <td>  587.254</td> <td>  611.443</td>\n",
       "</tr>\n",
       "<tr>\n",
       "  <th>rate</th>            <td>  112.7347</td> <td>    2.025</td> <td>   55.663</td> <td> 0.000</td> <td>  108.765</td> <td>  116.704</td>\n",
       "</tr>\n",
       "<tr>\n",
       "  <th>votes</th>           <td>    0.0462</td> <td>    0.002</td> <td>   19.034</td> <td> 0.000</td> <td>    0.041</td> <td>    0.051</td>\n",
       "</tr>\n",
       "<tr>\n",
       "  <th>location</th>        <td>    0.3557</td> <td>    0.105</td> <td>    3.373</td> <td> 0.001</td> <td>    0.149</td> <td>    0.562</td>\n",
       "</tr>\n",
       "<tr>\n",
       "  <th>rest_type</th>       <td>    4.5996</td> <td>    0.169</td> <td>   27.253</td> <td> 0.000</td> <td>    4.269</td> <td>    4.930</td>\n",
       "</tr>\n",
       "<tr>\n",
       "  <th>cuisines</th>        <td>    0.0768</td> <td>    0.004</td> <td>   21.125</td> <td> 0.000</td> <td>    0.070</td> <td>    0.084</td>\n",
       "</tr>\n",
       "<tr>\n",
       "  <th>listed_in(type)</th> <td>   23.3424</td> <td>    1.697</td> <td>   13.755</td> <td> 0.000</td> <td>   20.016</td> <td>   26.669</td>\n",
       "</tr>\n",
       "<tr>\n",
       "  <th>listed_in(city)</th> <td>    0.0892</td> <td>    0.263</td> <td>    0.339</td> <td> 0.735</td> <td>   -0.427</td> <td>    0.605</td>\n",
       "</tr>\n",
       "</table>\n",
       "<table class=\"simpletable\">\n",
       "<tr>\n",
       "  <th>Omnibus:</th>       <td>15056.158</td> <th>  Durbin-Watson:     </th>  <td>   2.013</td> \n",
       "</tr>\n",
       "<tr>\n",
       "  <th>Prob(Omnibus):</th>  <td> 0.000</td>   <th>  Jarque-Bera (JB):  </th> <td>178962.851</td>\n",
       "</tr>\n",
       "<tr>\n",
       "  <th>Skew:</th>           <td> 2.244</td>   <th>  Prob(JB):          </th>  <td>    0.00</td> \n",
       "</tr>\n",
       "<tr>\n",
       "  <th>Kurtosis:</th>       <td>14.339</td>   <th>  Cond. No.          </th>  <td>3.27e+03</td> \n",
       "</tr>\n",
       "</table><br/><br/>Notes:<br/>[1] R² is computed without centering (uncentered) since the model does not contain a constant.<br/>[2] Standard Errors assume that the covariance matrix of the errors is correctly specified.<br/>[3] The condition number is large, 3.27e+03. This might indicate that there are<br/>strong multicollinearity or other numerical problems."
      ],
      "text/plain": [
       "<class 'statsmodels.iolib.summary.Summary'>\n",
       "\"\"\"\n",
       "                                     OLS Regression Results                                     \n",
       "================================================================================================\n",
       "Dep. Variable:     approx_cost(for two people)   R-squared (uncentered):                   0.804\n",
       "Model:                                     OLS   Adj. R-squared (uncentered):              0.804\n",
       "Method:                          Least Squares   F-statistic:                          1.315e+04\n",
       "Date:                         Tue, 11 Oct 2022   Prob (F-statistic):                        0.00\n",
       "Time:                                 15:58:53   Log-Likelihood:                     -2.0894e+05\n",
       "No. Observations:                        28884   AIC:                                  4.179e+05\n",
       "Df Residuals:                            28875   BIC:                                  4.180e+05\n",
       "Df Model:                                    9                                                  \n",
       "Covariance Type:                     nonrobust                                                  \n",
       "===================================================================================\n",
       "                      coef    std err          t      P>|t|      [0.025      0.975]\n",
       "-----------------------------------------------------------------------------------\n",
       "online_order     -113.7423      4.312    -26.376      0.000    -122.195    -105.290\n",
       "book_table        599.3485      6.170     97.134      0.000     587.254     611.443\n",
       "rate              112.7347      2.025     55.663      0.000     108.765     116.704\n",
       "votes               0.0462      0.002     19.034      0.000       0.041       0.051\n",
       "location            0.3557      0.105      3.373      0.001       0.149       0.562\n",
       "rest_type           4.5996      0.169     27.253      0.000       4.269       4.930\n",
       "cuisines            0.0768      0.004     21.125      0.000       0.070       0.084\n",
       "listed_in(type)    23.3424      1.697     13.755      0.000      20.016      26.669\n",
       "listed_in(city)     0.0892      0.263      0.339      0.735      -0.427       0.605\n",
       "==============================================================================\n",
       "Omnibus:                    15056.158   Durbin-Watson:                   2.013\n",
       "Prob(Omnibus):                  0.000   Jarque-Bera (JB):           178962.851\n",
       "Skew:                           2.244   Prob(JB):                         0.00\n",
       "Kurtosis:                      14.339   Cond. No.                     3.27e+03\n",
       "==============================================================================\n",
       "\n",
       "Notes:\n",
       "[1] R² is computed without centering (uncentered) since the model does not contain a constant.\n",
       "[2] Standard Errors assume that the covariance matrix of the errors is correctly specified.\n",
       "[3] The condition number is large, 3.27e+03. This might indicate that there are\n",
       "strong multicollinearity or other numerical problems.\n",
       "\"\"\""
      ]
     },
     "execution_count": 79,
     "metadata": {},
     "output_type": "execute_result"
    }
   ],
   "source": [
    "model_full=sm.OLS(y_train_full,x_train_full).fit()\n",
    "model_full.summary()"
   ]
  },
  {
   "cell_type": "code",
   "execution_count": 80,
   "id": "37822a7b",
   "metadata": {},
   "outputs": [
    {
     "name": "stdout",
     "output_type": "stream",
     "text": [
      "335.1756272651971\n",
      "354.8432110459481\n"
     ]
    },
    {
     "data": {
      "text/plain": [
       "['full_model', 335.1756272651971, 354.8432110459481]"
      ]
     },
     "execution_count": 80,
     "metadata": {},
     "output_type": "execute_result"
    }
   ],
   "source": [
    "y_test_pred_full=model_full.predict(x_test_full)\n",
    "y_train_pred_full=model_full.predict(x_train_full)\n",
    "\n",
    "#r2score_train_LR=r2_score(y_train_LR,y_train_pred_LR)\n",
    "#r2score_test_LR=r2_score(y_test_LR,y_test_pred_LR)\n",
    "\n",
    "#print(r2score_train_LR)\n",
    "#print(r2score_test_LR)\n",
    "\n",
    "mse_train_full=mean_squared_error(y_train_full,y_train_pred_full)\n",
    "mse_test_full=mean_squared_error(y_test_full,y_test_pred_full)\n",
    "\n",
    "rmse_train_full=np.sqrt(mse_train_full)\n",
    "rmse_test_full=np.sqrt(mse_test_full)\n",
    "\n",
    "print(rmse_train_full)\n",
    "print(rmse_test_full)\n",
    "\n",
    "full_model=['full_model',rmse_train_full,rmse_test_full]\n",
    "full_model"
   ]
  },
  {
   "cell_type": "raw",
   "id": "3b49fbfb",
   "metadata": {},
   "source": [
    "## inference--> From the above output we can conclude that our model explains 80.4% variation in the cost of two people...\n",
    "## -->durbind watson score is near to 2 so we can say that there is no autocorrelation present in the model....\n",
    "## -->here p value of JB is less than the 0.05 means our residuals are not normally distributed...\n",
    "## -->based on cond.no we can say that there are several multicolinearity is present in the model...\n",
    "## -->here we see that table book is more impactable feature on our target variable...bcoz there is one unit change in book_table there is 598.84 change in cost of two people....\n"
   ]
  },
  {
   "cell_type": "markdown",
   "id": "684f26c7",
   "metadata": {},
   "source": [
    "## multicolinearity....."
   ]
  },
  {
   "cell_type": "code",
   "execution_count": 81,
   "id": "eeae06f3",
   "metadata": {},
   "outputs": [
    {
     "data": {
      "text/plain": [
       "<AxesSubplot:>"
      ]
     },
     "execution_count": 81,
     "metadata": {},
     "output_type": "execute_result"
    },
    {
     "data": {
      "image/png": "[encoded data removed]",
      "text/plain": [
       "<Figure size 720x360 with 2 Axes>"
      ]
     },
     "metadata": {
      "needs_background": "light"
     },
     "output_type": "display_data"
    }
   ],
   "source": [
    "plt.figure(figsize=(10,5))\n",
    "sns.heatmap(x_full.corr(),annot=True)"
   ]
  },
  {
   "cell_type": "markdown",
   "id": "68a074c5",
   "metadata": {},
   "source": [
    "## scaled model...."
   ]
  },
  {
   "cell_type": "code",
   "execution_count": 82,
   "id": "151d6e0b",
   "metadata": {},
   "outputs": [],
   "source": [
    "df_scale=df_fact.copy()"
   ]
  },
  {
   "cell_type": "code",
   "execution_count": 83,
   "id": "d29cc75a",
   "metadata": {
    "scrolled": true
   },
   "outputs": [],
   "source": [
    "df_scale.loc[:,['location','rest_type','cuisines','listed_in(type)','listed_in(city)','votes']]=df_scale.loc[:,['location','rest_type','cuisines','listed_in(type)','listed_in(city)','votes']].apply(lambda x:(x-(x.mean()))/x.std())"
   ]
  },
  {
   "cell_type": "code",
   "execution_count": 84,
   "id": "e7f93e2e",
   "metadata": {},
   "outputs": [
    {
     "name": "stdout",
     "output_type": "stream",
     "text": [
      "x-train:  (28884, 9)\n",
      "y-train:  (28884,)\n",
      "x-test:  (12379, 9)\n",
      "y-test:  (12379,)\n"
     ]
    }
   ],
   "source": [
    "x_scale=df_scale.drop(['address','name','reviews_list','approx_cost(for two people)','menu_item'],axis=1)\n",
    "y_scale=df_scale['approx_cost(for two people)']\n",
    "\n",
    "xc_scale=sm.add_constant(x_full)\n",
    "\n",
    "x_train_scale,x_test_scale,y_train_scale,y_test_scale=train_test_split(x_scale,y_scale,test_size=0.3,random_state=123)\n",
    "\n",
    "print('x-train: ',x_train_scale.shape)\n",
    "print('y-train: ',y_train_scale.shape)\n",
    "print('x-test: ',x_test_scale.shape)\n",
    "print('y-test: ',y_test_scale.shape)"
   ]
  },
  {
   "cell_type": "code",
   "execution_count": 85,
   "id": "7b592dc8",
   "metadata": {
    "scrolled": true
   },
   "outputs": [
    {
     "data": {
      "text/html": [
       "<table class=\"simpletable\">\n",
       "<caption>OLS Regression Results</caption>\n",
       "<tr>\n",
       "  <th>Dep. Variable:</th>    <td>approx_cost(for two people)</td> <th>  R-squared (uncentered):</th>       <td>   0.803</td>  \n",
       "</tr>\n",
       "<tr>\n",
       "  <th>Model:</th>                        <td>OLS</td>             <th>  Adj. R-squared (uncentered):</th>  <td>   0.803</td>  \n",
       "</tr>\n",
       "<tr>\n",
       "  <th>Method:</th>                  <td>Least Squares</td>        <th>  F-statistic:       </th>           <td>1.311e+04</td> \n",
       "</tr>\n",
       "<tr>\n",
       "  <th>Date:</th>                  <td>Tue, 11 Oct 2022</td>       <th>  Prob (F-statistic):</th>            <td>  0.00</td>   \n",
       "</tr>\n",
       "<tr>\n",
       "  <th>Time:</th>                      <td>15:58:55</td>           <th>  Log-Likelihood:    </th>          <td>-2.0897e+05</td>\n",
       "</tr>\n",
       "<tr>\n",
       "  <th>No. Observations:</th>           <td> 28884</td>            <th>  AIC:               </th>           <td>4.180e+05</td> \n",
       "</tr>\n",
       "<tr>\n",
       "  <th>Df Residuals:</th>               <td> 28875</td>            <th>  BIC:               </th>           <td>4.180e+05</td> \n",
       "</tr>\n",
       "<tr>\n",
       "  <th>Df Model:</th>                   <td>     9</td>            <th>                     </th>               <td> </td>     \n",
       "</tr>\n",
       "<tr>\n",
       "  <th>Covariance Type:</th>           <td>nonrobust</td>          <th>                     </th>               <td> </td>     \n",
       "</tr>\n",
       "</table>\n",
       "<table class=\"simpletable\">\n",
       "<tr>\n",
       "         <td></td>            <th>coef</th>     <th>std err</th>      <th>t</th>      <th>P>|t|</th>  <th>[0.025</th>    <th>0.975]</th>  \n",
       "</tr>\n",
       "<tr>\n",
       "  <th>online_order</th>    <td> -112.2395</td> <td>    4.340</td> <td>  -25.859</td> <td> 0.000</td> <td> -120.747</td> <td> -103.732</td>\n",
       "</tr>\n",
       "<tr>\n",
       "  <th>book_table</th>      <td>  586.1629</td> <td>    6.233</td> <td>   94.042</td> <td> 0.000</td> <td>  573.946</td> <td>  598.380</td>\n",
       "</tr>\n",
       "<tr>\n",
       "  <th>rate</th>            <td>  158.2403</td> <td>    0.983</td> <td>  160.958</td> <td> 0.000</td> <td>  156.313</td> <td>  160.167</td>\n",
       "</tr>\n",
       "<tr>\n",
       "  <th>votes</th>           <td>   34.7119</td> <td>    2.121</td> <td>   16.364</td> <td> 0.000</td> <td>   30.554</td> <td>   38.870</td>\n",
       "</tr>\n",
       "<tr>\n",
       "  <th>location</th>        <td>    7.0985</td> <td>    2.149</td> <td>    3.303</td> <td> 0.001</td> <td>    2.887</td> <td>   11.310</td>\n",
       "</tr>\n",
       "<tr>\n",
       "  <th>rest_type</th>       <td>   55.9594</td> <td>    2.101</td> <td>   26.639</td> <td> 0.000</td> <td>   51.842</td> <td>   60.077</td>\n",
       "</tr>\n",
       "<tr>\n",
       "  <th>cuisines</th>        <td>   42.8244</td> <td>    2.095</td> <td>   20.443</td> <td> 0.000</td> <td>   38.719</td> <td>   46.930</td>\n",
       "</tr>\n",
       "<tr>\n",
       "  <th>listed_in(type)</th> <td>   28.2177</td> <td>    2.066</td> <td>   13.659</td> <td> 0.000</td> <td>   24.169</td> <td>   32.267</td>\n",
       "</tr>\n",
       "<tr>\n",
       "  <th>listed_in(city)</th> <td>    1.0134</td> <td>    2.125</td> <td>    0.477</td> <td> 0.634</td> <td>   -3.153</td> <td>    5.179</td>\n",
       "</tr>\n",
       "</table>\n",
       "<table class=\"simpletable\">\n",
       "<tr>\n",
       "  <th>Omnibus:</th>       <td>14785.257</td> <th>  Durbin-Watson:     </th>  <td>   2.012</td> \n",
       "</tr>\n",
       "<tr>\n",
       "  <th>Prob(Omnibus):</th>  <td> 0.000</td>   <th>  Jarque-Bera (JB):  </th> <td>169823.540</td>\n",
       "</tr>\n",
       "<tr>\n",
       "  <th>Skew:</th>           <td> 2.203</td>   <th>  Prob(JB):          </th>  <td>    0.00</td> \n",
       "</tr>\n",
       "<tr>\n",
       "  <th>Kurtosis:</th>       <td>14.032</td>   <th>  Cond. No.          </th>  <td>    12.1</td> \n",
       "</tr>\n",
       "</table><br/><br/>Notes:<br/>[1] R² is computed without centering (uncentered) since the model does not contain a constant.<br/>[2] Standard Errors assume that the covariance matrix of the errors is correctly specified."
      ],
      "text/plain": [
       "<class 'statsmodels.iolib.summary.Summary'>\n",
       "\"\"\"\n",
       "                                     OLS Regression Results                                     \n",
       "================================================================================================\n",
       "Dep. Variable:     approx_cost(for two people)   R-squared (uncentered):                   0.803\n",
       "Model:                                     OLS   Adj. R-squared (uncentered):              0.803\n",
       "Method:                          Least Squares   F-statistic:                          1.311e+04\n",
       "Date:                         Tue, 11 Oct 2022   Prob (F-statistic):                        0.00\n",
       "Time:                                 15:58:55   Log-Likelihood:                     -2.0897e+05\n",
       "No. Observations:                        28884   AIC:                                  4.180e+05\n",
       "Df Residuals:                            28875   BIC:                                  4.180e+05\n",
       "Df Model:                                    9                                                  \n",
       "Covariance Type:                     nonrobust                                                  \n",
       "===================================================================================\n",
       "                      coef    std err          t      P>|t|      [0.025      0.975]\n",
       "-----------------------------------------------------------------------------------\n",
       "online_order     -112.2395      4.340    -25.859      0.000    -120.747    -103.732\n",
       "book_table        586.1629      6.233     94.042      0.000     573.946     598.380\n",
       "rate              158.2403      0.983    160.958      0.000     156.313     160.167\n",
       "votes              34.7119      2.121     16.364      0.000      30.554      38.870\n",
       "location            7.0985      2.149      3.303      0.001       2.887      11.310\n",
       "rest_type          55.9594      2.101     26.639      0.000      51.842      60.077\n",
       "cuisines           42.8244      2.095     20.443      0.000      38.719      46.930\n",
       "listed_in(type)    28.2177      2.066     13.659      0.000      24.169      32.267\n",
       "listed_in(city)     1.0134      2.125      0.477      0.634      -3.153       5.179\n",
       "==============================================================================\n",
       "Omnibus:                    14785.257   Durbin-Watson:                   2.012\n",
       "Prob(Omnibus):                  0.000   Jarque-Bera (JB):           169823.540\n",
       "Skew:                           2.203   Prob(JB):                         0.00\n",
       "Kurtosis:                      14.032   Cond. No.                         12.1\n",
       "==============================================================================\n",
       "\n",
       "Notes:\n",
       "[1] R² is computed without centering (uncentered) since the model does not contain a constant.\n",
       "[2] Standard Errors assume that the covariance matrix of the errors is correctly specified.\n",
       "\"\"\""
      ]
     },
     "execution_count": 85,
     "metadata": {},
     "output_type": "execute_result"
    }
   ],
   "source": [
    "model_scale=sm.OLS(y_train_scale,x_train_scale).fit()\n",
    "model_scale.summary()"
   ]
  },
  {
   "cell_type": "code",
   "execution_count": 86,
   "id": "63d0e33c",
   "metadata": {},
   "outputs": [
    {
     "name": "stdout",
     "output_type": "stream",
     "text": [
      "335.59338523484837\n",
      "355.0229740059223\n"
     ]
    },
    {
     "data": {
      "text/plain": [
       "['scale_model', 335.1756272651971, 354.8432110459481]"
      ]
     },
     "execution_count": 86,
     "metadata": {},
     "output_type": "execute_result"
    }
   ],
   "source": [
    "y_test_pred_scale=model_scale.predict(x_test_scale)\n",
    "y_train_pred_scale=model_scale.predict(x_train_scale)\n",
    "\n",
    "#r2score_train_LR=r2_score(y_train_LR,y_train_pred_LR)\n",
    "#r2score_test_LR=r2_score(y_test_LR,y_test_pred_LR)\n",
    "\n",
    "#print(r2score_train_LR)\n",
    "#print(r2score_test_LR)\n",
    "\n",
    "mse_train_scale=mean_squared_error(y_train_scale,y_train_pred_scale)\n",
    "mse_test_scale=mean_squared_error(y_test_scale,y_test_pred_scale)\n",
    "\n",
    "rmse_train_scale=np.sqrt(mse_train_scale)\n",
    "rmse_test_scale=np.sqrt(mse_test_scale)\n",
    "\n",
    "print(rmse_train_scale)\n",
    "print(rmse_test_scale)\n",
    "\n",
    "scale_model=['scale_model',rmse_train_full,rmse_test_full]\n",
    "scale_model"
   ]
  },
  {
   "cell_type": "markdown",
   "id": "c5e95be8",
   "metadata": {},
   "source": [
    "## Linear regression......"
   ]
  },
  {
   "cell_type": "code",
   "execution_count": 87,
   "id": "d1d3c8b8",
   "metadata": {},
   "outputs": [
    {
     "name": "stdout",
     "output_type": "stream",
     "text": [
      "x-train:  (28884, 9)\n",
      "y-train:  (28884,)\n",
      "x-test:  (12379, 9)\n",
      "y-test:  (12379,)\n"
     ]
    }
   ],
   "source": [
    "x_LR=df_scale.drop(['address','name','reviews_list','approx_cost(for two people)','menu_item'],axis=1)\n",
    "y_LR=df_scale['approx_cost(for two people)']\n",
    "\n",
    "x_train_LR,x_test_LR,y_train_LR,y_test_LR=train_test_split(x_LR,y_LR,test_size=0.3,random_state=123)\n",
    "\n",
    "print('x-train: ',x_train_LR.shape)\n",
    "print('y-train: ',y_train_LR.shape)\n",
    "print('x-test: ',x_test_LR.shape)\n",
    "print('y-test: ',y_test_LR.shape)"
   ]
  },
  {
   "cell_type": "code",
   "execution_count": 88,
   "id": "be1bdcf4",
   "metadata": {},
   "outputs": [
    {
     "name": "stdout",
     "output_type": "stream",
     "text": [
      "0.4640267424273292\n",
      "0.4560563771444657\n",
      "335.1750915789326\n",
      "354.83010682522837\n"
     ]
    },
    {
     "data": {
      "text/plain": [
       "['LR_model', 335.1750915789326, 354.83010682522837]"
      ]
     },
     "execution_count": 88,
     "metadata": {},
     "output_type": "execute_result"
    }
   ],
   "source": [
    "LR=LinearRegression()\n",
    "\n",
    "LR.fit(x_train_LR,y_train_LR)\n",
    "y_test_pred_LR=LR.predict(x_test_LR)\n",
    "y_train_pred_LR=LR.predict(x_train_LR)\n",
    "\n",
    "r2score_train_LR=r2_score(y_train_LR,y_train_pred_LR)\n",
    "r2score_test_LR=r2_score(y_test_LR,y_test_pred_LR)\n",
    "\n",
    "print(r2score_train_LR)\n",
    "print(r2score_test_LR)\n",
    "\n",
    "mse_train_LR=mean_squared_error(y_train_LR,y_train_pred_LR)\n",
    "mse_test_LR=mean_squared_error(y_test_LR,y_test_pred_LR)\n",
    "\n",
    "rmse_train_LR=np.sqrt(mse_train_LR)\n",
    "rmse_test_LR=np.sqrt(mse_test_LR)\n",
    "\n",
    "print(rmse_train_LR)\n",
    "print(rmse_test_LR)\n",
    "\n",
    "LR_model=['LR_model',rmse_train_LR,rmse_test_LR]\n",
    "LR_model"
   ]
  },
  {
   "cell_type": "code",
   "execution_count": null,
   "id": "ee7e5c88",
   "metadata": {},
   "outputs": [],
   "source": []
  },
  {
   "cell_type": "markdown",
   "id": "cb7b295e",
   "metadata": {},
   "source": [
    "## forward....."
   ]
  },
  {
   "cell_type": "code",
   "execution_count": 89,
   "id": "20968022",
   "metadata": {},
   "outputs": [],
   "source": [
    "from mlxtend.feature_selection import SequentialFeatureSelector as SFS"
   ]
  },
  {
   "cell_type": "code",
   "execution_count": 90,
   "id": "f9620ec6",
   "metadata": {},
   "outputs": [
    {
     "data": {
      "text/plain": [
       "['online_order',\n",
       " 'book_table',\n",
       " 'rate',\n",
       " 'votes',\n",
       " 'location',\n",
       " 'rest_type',\n",
       " 'cuisines',\n",
       " 'listed_in(type)']"
      ]
     },
     "execution_count": 90,
     "metadata": {},
     "output_type": "execute_result"
    }
   ],
   "source": [
    "lr=LinearRegression()\n",
    "lr_sfs=SFS(estimator=lr,k_features='best',forward=True)\n",
    "\n",
    "lr_ford=lr_sfs.fit(x_train_full,y_train_full)\n",
    "\n",
    "forward_feature=list(lr_ford.k_feature_names_)\n",
    "forward_feature"
   ]
  },
  {
   "cell_type": "code",
   "execution_count": 91,
   "id": "94ceed97",
   "metadata": {},
   "outputs": [
    {
     "data": {
      "text/plain": [
       "['forward_model', 335.17592119890196, 354.83965170317634]"
      ]
     },
     "execution_count": 91,
     "metadata": {},
     "output_type": "execute_result"
    }
   ],
   "source": [
    "lr=LinearRegression()\n",
    "lr.fit(x_train_full[forward_feature],y_train_full)\n",
    "\n",
    "y_train_pred=lr.predict(x_train_full[forward_feature])\n",
    "y_test_pred=lr.predict(x_test_full[forward_feature])\n",
    "\n",
    "#r2_train=r2_score(y_train_scale,y_train_pred)\n",
    "#r2_test=r2_score(y_test_scale,y_test_pred)\n",
    "\n",
    "mse_train=mean_squared_error(y_train_full,y_train_pred)\n",
    "mse_test=mean_squared_error(y_test_full,y_test_pred)\n",
    "\n",
    "rmse_train=np.sqrt(mse_train)\n",
    "rmse_test=np.sqrt(mse_test)\n",
    "\n",
    "result_sfs=['forward_model',rmse_train,rmse_test]\n",
    "result_sfs"
   ]
  },
  {
   "cell_type": "markdown",
   "id": "4736084f",
   "metadata": {},
   "source": [
    "## backward...."
   ]
  },
  {
   "cell_type": "code",
   "execution_count": 92,
   "id": "c8318dae",
   "metadata": {},
   "outputs": [
    {
     "data": {
      "text/plain": [
       "['online_order',\n",
       " 'book_table',\n",
       " 'rate',\n",
       " 'votes',\n",
       " 'location',\n",
       " 'rest_type',\n",
       " 'cuisines',\n",
       " 'listed_in(type)']"
      ]
     },
     "execution_count": 92,
     "metadata": {},
     "output_type": "execute_result"
    }
   ],
   "source": [
    "lr=LinearRegression()\n",
    "lr_sfs=SFS(estimator=lr,k_features='best',forward=False)\n",
    "\n",
    "lr_ford=lr_sfs.fit(x_train_full,y_train_full)\n",
    "\n",
    "back_feature=list(lr_ford.k_feature_names_)\n",
    "back_feature"
   ]
  },
  {
   "cell_type": "code",
   "execution_count": 93,
   "id": "ad91c81b",
   "metadata": {},
   "outputs": [
    {
     "data": {
      "text/plain": [
       "['backward_model', 335.17592119890196, 354.83965170317634]"
      ]
     },
     "execution_count": 93,
     "metadata": {},
     "output_type": "execute_result"
    }
   ],
   "source": [
    "lr=LinearRegression()\n",
    "lr.fit(x_train_full[back_feature],y_train_full)\n",
    "\n",
    "y_train_pred=lr.predict(x_train_full[back_feature])\n",
    "y_test_pred=lr.predict(x_test_full[back_feature])\n",
    "\n",
    "#r2_train=r2_score(y_train_scale,y_train_pred)\n",
    "#r2_test=r2_score(y_test_scale,y_test_pred)\n",
    "\n",
    "mse_train=mean_squared_error(y_train_full,y_train_pred)\n",
    "mse_test=mean_squared_error(y_test_full,y_test_pred)\n",
    "\n",
    "rmse_train=np.sqrt(mse_train)\n",
    "rmse_test=np.sqrt(mse_test)\n",
    "\n",
    "result_sfs_back=['backward_model',rmse_train,rmse_test]\n",
    "result_sfs_back"
   ]
  },
  {
   "cell_type": "markdown",
   "id": "0669049d",
   "metadata": {},
   "source": [
    "## ridge"
   ]
  },
  {
   "cell_type": "code",
   "execution_count": 94,
   "id": "ef1dae05",
   "metadata": {},
   "outputs": [],
   "source": [
    "from sklearn.model_selection import GridSearchCV\n",
    "from sklearn.linear_model import Ridge,Lasso,ElasticNetCV,ElasticNet"
   ]
  },
  {
   "cell_type": "code",
   "execution_count": 95,
   "id": "416d8152",
   "metadata": {},
   "outputs": [
    {
     "data": {
      "text/plain": [
       "{'alpha': 0.01}"
      ]
     },
     "execution_count": 95,
     "metadata": {},
     "output_type": "execute_result"
    }
   ],
   "source": [
    "param={'alpha':[0.01,0.01,0.1,0.3,0.5]}\n",
    "\n",
    "model=Ridge(normalize=True)\n",
    "\n",
    "grid_cv=GridSearchCV(estimator=model,param_grid=param,cv=5,scoring='r2')\n",
    "grid_cv.fit(x_train_scale,y_train_scale)\n",
    "grid_cv.best_params_"
   ]
  },
  {
   "cell_type": "code",
   "execution_count": 96,
   "id": "c113f1b4",
   "metadata": {
    "scrolled": false
   },
   "outputs": [
    {
     "name": "stdout",
     "output_type": "stream",
     "text": [
      "train RMSE  335.1825670105923\n",
      "test rmse  354.9110494749371\n"
     ]
    },
    {
     "data": {
      "text/plain": [
       "['Ridge  ', 335.1825670105923, 354.9110494749371]"
      ]
     },
     "execution_count": 96,
     "metadata": {},
     "output_type": "execute_result"
    }
   ],
   "source": [
    "ridge_model=Ridge(alpha=0.01,normalize=True)\n",
    "ridge_model.fit(x_train_full,y_train_full)\n",
    "\n",
    "y_pred_train = ridge_model.predict(x_train_full)\n",
    "y_pred_test = ridge_model.predict(x_test_full)\n",
    "\n",
    "\n",
    "#train_r2 = r2_score(y_train_full, y_pred_train)\n",
    "#test_r2 = r2_score(y_test_full, y_pred_test)\n",
    "#print('Train R2 ', train_r2)\n",
    "#print('Test R2  ', test_r2)\n",
    "\n",
    "train_mse = mean_squared_error(y_train_full, y_pred_train)\n",
    "test_mse = mean_squared_error(y_test_full, y_pred_test)\n",
    "train_rmse = np.sqrt(train_mse)\n",
    "test_rmse = np.sqrt(test_mse)\n",
    "print(\"train RMSE \", train_rmse)\n",
    "print(\"test rmse \", test_rmse)\n",
    "\n",
    "result_ridge = ['Ridge  ', train_rmse, test_rmse]\n",
    "result_ridge"
   ]
  },
  {
   "cell_type": "markdown",
   "id": "15753179",
   "metadata": {},
   "source": [
    "## Lasso..."
   ]
  },
  {
   "cell_type": "code",
   "execution_count": 97,
   "id": "bded63b3",
   "metadata": {},
   "outputs": [
    {
     "data": {
      "text/plain": [
       "{'alpha': 0.01}"
      ]
     },
     "execution_count": 97,
     "metadata": {},
     "output_type": "execute_result"
    }
   ],
   "source": [
    "param={'alpha':[0.01,0.01,0.1,0.3,0.5]}\n",
    "\n",
    "model=Lasso(normalize=True)\n",
    "\n",
    "grid_cv=GridSearchCV(estimator=model,param_grid=param,cv=5,scoring='r2')\n",
    "grid_cv.fit(x_train_full,y_train_full)\n",
    "grid_cv.best_params_"
   ]
  },
  {
   "cell_type": "code",
   "execution_count": 98,
   "id": "e9240b96",
   "metadata": {},
   "outputs": [
    {
     "name": "stdout",
     "output_type": "stream",
     "text": [
      "train RMSE  335.1943984987931\n",
      "test rmse  354.99357413703416\n"
     ]
    },
    {
     "data": {
      "text/plain": [
       "['Lasso ', 335.1943984987931, 354.99357413703416]"
      ]
     },
     "execution_count": 98,
     "metadata": {},
     "output_type": "execute_result"
    }
   ],
   "source": [
    "lasso_model=Lasso(alpha=0.01,normalize=True)\n",
    "lasso_model.fit(x_train_full,y_train_full)\n",
    "\n",
    "y_pred_train = lasso_model.predict(x_train_full)\n",
    "y_pred_test = lasso_model.predict(x_test_full)\n",
    "\n",
    "\n",
    "#train_r2 = r2_score(y_train_full, y_pred_train)\n",
    "#test_r2 = r2_score(y_test_full, y_pred_test)\n",
    "#print('Train R2 ', train_r2)\n",
    "#print('Test R2  ', test_r2)\n",
    "\n",
    "train_mse = mean_squared_error(y_train_full, y_pred_train)\n",
    "test_mse = mean_squared_error(y_test_full, y_pred_test)\n",
    "train_rmse = np.sqrt(train_mse)\n",
    "test_rmse = np.sqrt(test_mse)\n",
    "print(\"train RMSE \", train_rmse)\n",
    "print(\"test rmse \", test_rmse)\n",
    "\n",
    "result_lasso = ['Lasso ', train_rmse, test_rmse]\n",
    "result_lasso"
   ]
  },
  {
   "cell_type": "markdown",
   "id": "f6ae99dc",
   "metadata": {},
   "source": [
    "## Elastinate...."
   ]
  },
  {
   "cell_type": "code",
   "execution_count": 99,
   "id": "90d38a85",
   "metadata": {},
   "outputs": [
    {
     "data": {
      "text/plain": [
       "{'alpha': 0.01, 'l1_ratio': 0.7}"
      ]
     },
     "execution_count": 99,
     "metadata": {},
     "output_type": "execute_result"
    }
   ],
   "source": [
    "param={'alpha':[0.01,0.01,0.1,0.3,0.5],\n",
    "      'l1_ratio':[0.3,0.5,0.7]}\n",
    "\n",
    "algo_name=ElasticNet(normalize=True)\n",
    "\n",
    "grid_cv=GridSearchCV(estimator=algo_name,param_grid=param,cv=5,scoring='r2')\n",
    "grid_cv.fit(x_train_full,y_train_full)\n",
    "grid_cv.best_params_"
   ]
  },
  {
   "cell_type": "code",
   "execution_count": 100,
   "id": "5326d034",
   "metadata": {
    "scrolled": false
   },
   "outputs": [
    {
     "name": "stdout",
     "output_type": "stream",
     "text": [
      "train RMSE  2296.084711868724\n",
      "test rmse  2207.149919755632\n"
     ]
    },
    {
     "data": {
      "text/plain": [
       "['ElasticNet ', 2296.084711868724, 2207.149919755632]"
      ]
     },
     "execution_count": 100,
     "metadata": {},
     "output_type": "execute_result"
    }
   ],
   "source": [
    "en_model=ElasticNet(alpha=0.01,l1_ratio=0.7,normalize=True)\n",
    "en_model.fit(x_train_scale,y_train_scale)\n",
    "\n",
    "y_pred_train = en_model.predict(x_train_full)\n",
    "y_pred_test = en_model.predict(x_test_full)\n",
    "\n",
    "\n",
    "#train_r2 = r2_score(y_train_scale, y_pred_train)\n",
    "#test_r2 = r2_score(y_test_scale, y_pred_test)\n",
    "#print('Train R2 ', train_r2)\n",
    "#print('Test R2  ', test_r2)\n",
    "\n",
    "train_mse = mean_squared_error(y_train_full, y_pred_train)\n",
    "test_mse = mean_squared_error(y_test_full, y_pred_test)\n",
    "train_rmse = np.sqrt(train_mse)\n",
    "test_rmse = np.sqrt(test_mse)\n",
    "print(\"train RMSE \", train_rmse)\n",
    "print(\"test rmse \", test_rmse)\n",
    "\n",
    "result_en = ['ElasticNet ', train_rmse, test_rmse]\n",
    "result_en"
   ]
  },
  {
   "cell_type": "markdown",
   "id": "5c43c318",
   "metadata": {},
   "source": [
    "## SGD regression...."
   ]
  },
  {
   "cell_type": "code",
   "execution_count": 101,
   "id": "eb049e2d",
   "metadata": {},
   "outputs": [],
   "source": [
    "from sklearn.linear_model import SGDClassifier,SGDRegressor"
   ]
  },
  {
   "cell_type": "code",
   "execution_count": 102,
   "id": "57c9f586",
   "metadata": {
    "scrolled": true
   },
   "outputs": [
    {
     "name": "stdout",
     "output_type": "stream",
     "text": [
      "['SGD regression ', 1741372463935.416, 1639445451172.7405]\n",
      "1741372463935.416\n"
     ]
    }
   ],
   "source": [
    "sgd = SGDRegressor(random_state = 100)\n",
    "\n",
    "\n",
    "linreg_with_SGD = sgd.fit(x_train_full, y_train_full)\n",
    "\n",
    "y_pred_train=linreg_with_SGD.predict(x_train_scale)\n",
    "y_pred_test=linreg_with_SGD.predict(x_test_scale)\n",
    "\n",
    "mse_train=mean_squared_error(y_train_full,y_pred_train)\n",
    "train_rmse=round(np.sqrt(mse_train),4)\n",
    "\n",
    "mse_test=mean_squared_error(y_test_full,y_pred_test)\n",
    "test_rmse=round(np.sqrt(mse_test),4)\n",
    "\n",
    "result_sgd = ['SGD regression ', train_rmse, test_rmse]\n",
    "print(result_sgd)\n",
    "print(train_rmse)"
   ]
  },
  {
   "cell_type": "markdown",
   "id": "68d8ba1a",
   "metadata": {},
   "source": [
    "## models summarization...."
   ]
  },
  {
   "cell_type": "code",
   "execution_count": 103,
   "id": "80895607",
   "metadata": {},
   "outputs": [
    {
     "data": {
      "text/html": [
       "<div>\n",
       "<style scoped>\n",
       "    .dataframe tbody tr th:only-of-type {\n",
       "        vertical-align: middle;\n",
       "    }\n",
       "\n",
       "    .dataframe tbody tr th {\n",
       "        vertical-align: top;\n",
       "    }\n",
       "\n",
       "    .dataframe thead th {\n",
       "        text-align: right;\n",
       "    }\n",
       "</style>\n",
       "<table border=\"1\" class=\"dataframe\">\n",
       "  <thead>\n",
       "    <tr style=\"text-align: right;\">\n",
       "      <th></th>\n",
       "      <th>Method</th>\n",
       "      <th>Train RMSE</th>\n",
       "      <th>Test RMSE</th>\n",
       "    </tr>\n",
       "  </thead>\n",
       "  <tbody>\n",
       "    <tr>\n",
       "      <th>0</th>\n",
       "      <td>full_model</td>\n",
       "      <td>335.175627</td>\n",
       "      <td>354.843211</td>\n",
       "    </tr>\n",
       "    <tr>\n",
       "      <th>1</th>\n",
       "      <td>scale_model</td>\n",
       "      <td>335.175627</td>\n",
       "      <td>354.843211</td>\n",
       "    </tr>\n",
       "    <tr>\n",
       "      <th>2</th>\n",
       "      <td>LR_model</td>\n",
       "      <td>335.175092</td>\n",
       "      <td>354.830107</td>\n",
       "    </tr>\n",
       "    <tr>\n",
       "      <th>3</th>\n",
       "      <td>forward_model</td>\n",
       "      <td>335.175921</td>\n",
       "      <td>354.839652</td>\n",
       "    </tr>\n",
       "    <tr>\n",
       "      <th>4</th>\n",
       "      <td>backward_model</td>\n",
       "      <td>335.175921</td>\n",
       "      <td>354.839652</td>\n",
       "    </tr>\n",
       "    <tr>\n",
       "      <th>5</th>\n",
       "      <td>Ridge</td>\n",
       "      <td>335.182567</td>\n",
       "      <td>354.911049</td>\n",
       "    </tr>\n",
       "    <tr>\n",
       "      <th>6</th>\n",
       "      <td>Lasso</td>\n",
       "      <td>335.194398</td>\n",
       "      <td>354.993574</td>\n",
       "    </tr>\n",
       "    <tr>\n",
       "      <th>7</th>\n",
       "      <td>ElasticNet</td>\n",
       "      <td>2296.084712</td>\n",
       "      <td>2207.149920</td>\n",
       "    </tr>\n",
       "  </tbody>\n",
       "</table>\n",
       "</div>"
      ],
      "text/plain": [
       "           Method   Train RMSE    Test RMSE\n",
       "0      full_model   335.175627   354.843211\n",
       "1     scale_model   335.175627   354.843211\n",
       "2        LR_model   335.175092   354.830107\n",
       "3   forward_model   335.175921   354.839652\n",
       "4  backward_model   335.175921   354.839652\n",
       "5         Ridge     335.182567   354.911049\n",
       "6          Lasso    335.194398   354.993574\n",
       "7     ElasticNet   2296.084712  2207.149920"
      ]
     },
     "execution_count": 103,
     "metadata": {},
     "output_type": "execute_result"
    }
   ],
   "source": [
    "results = pd.DataFrame(columns=['Method', 'Train RMSE', 'Test RMSE'])\n",
    "results.loc[len(results)] = full_model\n",
    "results.loc[len(results)] = scale_model\n",
    "results.loc[len(results)] = LR_model\n",
    "results.loc[len(results)] = result_sfs\n",
    "results.loc[len(results)] = result_sfs_back\n",
    "results.loc[len(results)] = result_ridge\n",
    "results.loc[len(results)] = result_lasso\n",
    "results.loc[len(results)] = result_en\n",
    "\n",
    "\n",
    "#results.loc[len(results)] = result_sgd\n",
    "results"
   ]
  },
  {
   "cell_type": "code",
   "execution_count": 104,
   "id": "f9e26476",
   "metadata": {},
   "outputs": [],
   "source": [
    "results_1=results.copy()"
   ]
  },
  {
   "cell_type": "code",
   "execution_count": 105,
   "id": "474c8dd9",
   "metadata": {},
   "outputs": [],
   "source": [
    "result_num=results_1.select_dtypes(np.number)"
   ]
  },
  {
   "cell_type": "code",
   "execution_count": 106,
   "id": "b442edcc",
   "metadata": {},
   "outputs": [
    {
     "data": {
      "text/html": [
       "<div>\n",
       "<style scoped>\n",
       "    .dataframe tbody tr th:only-of-type {\n",
       "        vertical-align: middle;\n",
       "    }\n",
       "\n",
       "    .dataframe tbody tr th {\n",
       "        vertical-align: top;\n",
       "    }\n",
       "\n",
       "    .dataframe thead th {\n",
       "        text-align: right;\n",
       "    }\n",
       "</style>\n",
       "<table border=\"1\" class=\"dataframe\">\n",
       "  <thead>\n",
       "    <tr style=\"text-align: right;\">\n",
       "      <th></th>\n",
       "      <th>Train RMSE</th>\n",
       "      <th>Test RMSE</th>\n",
       "    </tr>\n",
       "  </thead>\n",
       "  <tbody>\n",
       "    <tr>\n",
       "      <th>0</th>\n",
       "      <td>-0.353559</td>\n",
       "      <td>-0.353597</td>\n",
       "    </tr>\n",
       "    <tr>\n",
       "      <th>1</th>\n",
       "      <td>-0.353559</td>\n",
       "      <td>-0.353597</td>\n",
       "    </tr>\n",
       "    <tr>\n",
       "      <th>2</th>\n",
       "      <td>-0.353559</td>\n",
       "      <td>-0.353617</td>\n",
       "    </tr>\n",
       "    <tr>\n",
       "      <th>3</th>\n",
       "      <td>-0.353558</td>\n",
       "      <td>-0.353602</td>\n",
       "    </tr>\n",
       "    <tr>\n",
       "      <th>4</th>\n",
       "      <td>-0.353558</td>\n",
       "      <td>-0.353602</td>\n",
       "    </tr>\n",
       "    <tr>\n",
       "      <th>5</th>\n",
       "      <td>-0.353549</td>\n",
       "      <td>-0.353493</td>\n",
       "    </tr>\n",
       "    <tr>\n",
       "      <th>6</th>\n",
       "      <td>-0.353532</td>\n",
       "      <td>-0.353367</td>\n",
       "    </tr>\n",
       "    <tr>\n",
       "      <th>7</th>\n",
       "      <td>2.474874</td>\n",
       "      <td>2.474874</td>\n",
       "    </tr>\n",
       "  </tbody>\n",
       "</table>\n",
       "</div>"
      ],
      "text/plain": [
       "   Train RMSE  Test RMSE\n",
       "0   -0.353559  -0.353597\n",
       "1   -0.353559  -0.353597\n",
       "2   -0.353559  -0.353617\n",
       "3   -0.353558  -0.353602\n",
       "4   -0.353558  -0.353602\n",
       "5   -0.353549  -0.353493\n",
       "6   -0.353532  -0.353367\n",
       "7    2.474874   2.474874"
      ]
     },
     "execution_count": 106,
     "metadata": {},
     "output_type": "execute_result"
    }
   ],
   "source": [
    "# standrlize the error......\n",
    "result_num.apply(lambda x: (x-x.mean())/x.std())"
   ]
  },
  {
   "cell_type": "code",
   "execution_count": 107,
   "id": "fe995c2c",
   "metadata": {},
   "outputs": [
    {
     "data": {
      "text/html": [
       "<div>\n",
       "<style scoped>\n",
       "    .dataframe tbody tr th:only-of-type {\n",
       "        vertical-align: middle;\n",
       "    }\n",
       "\n",
       "    .dataframe tbody tr th {\n",
       "        vertical-align: top;\n",
       "    }\n",
       "\n",
       "    .dataframe thead th {\n",
       "        text-align: right;\n",
       "    }\n",
       "</style>\n",
       "<table border=\"1\" class=\"dataframe\">\n",
       "  <thead>\n",
       "    <tr style=\"text-align: right;\">\n",
       "      <th></th>\n",
       "      <th>Train RMSE</th>\n",
       "      <th>Test RMSE</th>\n",
       "      <th>different</th>\n",
       "    </tr>\n",
       "  </thead>\n",
       "  <tbody>\n",
       "    <tr>\n",
       "      <th>0</th>\n",
       "      <td>335.175627</td>\n",
       "      <td>354.843211</td>\n",
       "      <td>19.667584</td>\n",
       "    </tr>\n",
       "    <tr>\n",
       "      <th>1</th>\n",
       "      <td>335.175627</td>\n",
       "      <td>354.843211</td>\n",
       "      <td>19.667584</td>\n",
       "    </tr>\n",
       "    <tr>\n",
       "      <th>2</th>\n",
       "      <td>335.175092</td>\n",
       "      <td>354.830107</td>\n",
       "      <td>19.655015</td>\n",
       "    </tr>\n",
       "    <tr>\n",
       "      <th>3</th>\n",
       "      <td>335.175921</td>\n",
       "      <td>354.839652</td>\n",
       "      <td>19.663731</td>\n",
       "    </tr>\n",
       "    <tr>\n",
       "      <th>4</th>\n",
       "      <td>335.175921</td>\n",
       "      <td>354.839652</td>\n",
       "      <td>19.663731</td>\n",
       "    </tr>\n",
       "    <tr>\n",
       "      <th>5</th>\n",
       "      <td>335.182567</td>\n",
       "      <td>354.911049</td>\n",
       "      <td>19.728482</td>\n",
       "    </tr>\n",
       "    <tr>\n",
       "      <th>6</th>\n",
       "      <td>335.194398</td>\n",
       "      <td>354.993574</td>\n",
       "      <td>19.799176</td>\n",
       "    </tr>\n",
       "    <tr>\n",
       "      <th>7</th>\n",
       "      <td>2296.084712</td>\n",
       "      <td>2207.149920</td>\n",
       "      <td>88.934792</td>\n",
       "    </tr>\n",
       "  </tbody>\n",
       "</table>\n",
       "</div>"
      ],
      "text/plain": [
       "    Train RMSE    Test RMSE  different\n",
       "0   335.175627   354.843211  19.667584\n",
       "1   335.175627   354.843211  19.667584\n",
       "2   335.175092   354.830107  19.655015\n",
       "3   335.175921   354.839652  19.663731\n",
       "4   335.175921   354.839652  19.663731\n",
       "5   335.182567   354.911049  19.728482\n",
       "6   335.194398   354.993574  19.799176\n",
       "7  2296.084712  2207.149920  88.934792"
      ]
     },
     "execution_count": 107,
     "metadata": {},
     "output_type": "execute_result"
    }
   ],
   "source": [
    "result_num['different']=np.abs(result_num['Train RMSE']-result_num['Test RMSE'])\n",
    "result_num"
   ]
  },
  {
   "cell_type": "code",
   "execution_count": null,
   "id": "087259c5",
   "metadata": {},
   "outputs": [],
   "source": []
  },
  {
   "cell_type": "code",
   "execution_count": 108,
   "id": "6d92d80d",
   "metadata": {},
   "outputs": [
    {
     "data": {
      "text/html": [
       "<div>\n",
       "<style scoped>\n",
       "    .dataframe tbody tr th:only-of-type {\n",
       "        vertical-align: middle;\n",
       "    }\n",
       "\n",
       "    .dataframe tbody tr th {\n",
       "        vertical-align: top;\n",
       "    }\n",
       "\n",
       "    .dataframe thead th {\n",
       "        text-align: right;\n",
       "    }\n",
       "</style>\n",
       "<table border=\"1\" class=\"dataframe\">\n",
       "  <thead>\n",
       "    <tr style=\"text-align: right;\">\n",
       "      <th></th>\n",
       "      <th>Method</th>\n",
       "      <th>Train RMSE</th>\n",
       "      <th>Test RMSE</th>\n",
       "      <th>Standard_Diff</th>\n",
       "    </tr>\n",
       "  </thead>\n",
       "  <tbody>\n",
       "    <tr>\n",
       "      <th>2</th>\n",
       "      <td>LR_model</td>\n",
       "      <td>335.175092</td>\n",
       "      <td>354.830107</td>\n",
       "      <td>19.655015</td>\n",
       "    </tr>\n",
       "    <tr>\n",
       "      <th>3</th>\n",
       "      <td>forward_model</td>\n",
       "      <td>335.175921</td>\n",
       "      <td>354.839652</td>\n",
       "      <td>19.663731</td>\n",
       "    </tr>\n",
       "    <tr>\n",
       "      <th>4</th>\n",
       "      <td>backward_model</td>\n",
       "      <td>335.175921</td>\n",
       "      <td>354.839652</td>\n",
       "      <td>19.663731</td>\n",
       "    </tr>\n",
       "    <tr>\n",
       "      <th>0</th>\n",
       "      <td>full_model</td>\n",
       "      <td>335.175627</td>\n",
       "      <td>354.843211</td>\n",
       "      <td>19.667584</td>\n",
       "    </tr>\n",
       "    <tr>\n",
       "      <th>1</th>\n",
       "      <td>scale_model</td>\n",
       "      <td>335.175627</td>\n",
       "      <td>354.843211</td>\n",
       "      <td>19.667584</td>\n",
       "    </tr>\n",
       "    <tr>\n",
       "      <th>5</th>\n",
       "      <td>Ridge</td>\n",
       "      <td>335.182567</td>\n",
       "      <td>354.911049</td>\n",
       "      <td>19.728482</td>\n",
       "    </tr>\n",
       "    <tr>\n",
       "      <th>6</th>\n",
       "      <td>Lasso</td>\n",
       "      <td>335.194398</td>\n",
       "      <td>354.993574</td>\n",
       "      <td>19.799176</td>\n",
       "    </tr>\n",
       "    <tr>\n",
       "      <th>7</th>\n",
       "      <td>ElasticNet</td>\n",
       "      <td>2296.084712</td>\n",
       "      <td>2207.149920</td>\n",
       "      <td>88.934792</td>\n",
       "    </tr>\n",
       "  </tbody>\n",
       "</table>\n",
       "</div>"
      ],
      "text/plain": [
       "           Method   Train RMSE    Test RMSE  Standard_Diff\n",
       "2        LR_model   335.175092   354.830107      19.655015\n",
       "3   forward_model   335.175921   354.839652      19.663731\n",
       "4  backward_model   335.175921   354.839652      19.663731\n",
       "0      full_model   335.175627   354.843211      19.667584\n",
       "1     scale_model   335.175627   354.843211      19.667584\n",
       "5         Ridge     335.182567   354.911049      19.728482\n",
       "6          Lasso    335.194398   354.993574      19.799176\n",
       "7     ElasticNet   2296.084712  2207.149920      88.934792"
      ]
     },
     "execution_count": 108,
     "metadata": {},
     "output_type": "execute_result"
    }
   ],
   "source": [
    "results['Standard_Diff']=result_num['different']\n",
    "results.sort_values(by='Standard_Diff',ascending=True)"
   ]
  },
  {
   "cell_type": "markdown",
   "id": "1a9f127a",
   "metadata": {},
   "source": [
    "# SECTION:B ( ORDER STATUS ANALYSIS )"
   ]
  },
  {
   "cell_type": "code",
   "execution_count": 109,
   "id": "288921ad",
   "metadata": {},
   "outputs": [],
   "source": [
    "df_fact_1=df_fact.copy()"
   ]
  },
  {
   "cell_type": "code",
   "execution_count": 110,
   "id": "33b25e32",
   "metadata": {},
   "outputs": [
    {
     "data": {
      "text/plain": [
       "Text(0.5, 1.0, '1: online order / 0: offline order')"
      ]
     },
     "execution_count": 110,
     "metadata": {},
     "output_type": "execute_result"
    },
    {
     "data": {
      "image/png": "[encoded data removed]",
      "text/plain": [
       "<Figure size 720x360 with 1 Axes>"
      ]
     },
     "metadata": {
      "needs_background": "light"
     },
     "output_type": "display_data"
    }
   ],
   "source": [
    "plt.figure(figsize=(10,5))\n",
    "sns.countplot(df_fact_1.online_order)\n",
    "plt.title('1: online order / 0: offline order',fontsize=20)"
   ]
  },
  {
   "cell_type": "code",
   "execution_count": 111,
   "id": "cd2231f4",
   "metadata": {
    "scrolled": true
   },
   "outputs": [
    {
     "data": {
      "text/html": [
       "<div>\n",
       "<style scoped>\n",
       "    .dataframe tbody tr th:only-of-type {\n",
       "        vertical-align: middle;\n",
       "    }\n",
       "\n",
       "    .dataframe tbody tr th {\n",
       "        vertical-align: top;\n",
       "    }\n",
       "\n",
       "    .dataframe thead th {\n",
       "        text-align: right;\n",
       "    }\n",
       "</style>\n",
       "<table border=\"1\" class=\"dataframe\">\n",
       "  <thead>\n",
       "    <tr style=\"text-align: right;\">\n",
       "      <th></th>\n",
       "      <th>address</th>\n",
       "      <th>name</th>\n",
       "      <th>online_order</th>\n",
       "      <th>book_table</th>\n",
       "      <th>rate</th>\n",
       "      <th>votes</th>\n",
       "      <th>location</th>\n",
       "      <th>rest_type</th>\n",
       "      <th>cuisines</th>\n",
       "      <th>approx_cost(for two people)</th>\n",
       "      <th>reviews_list</th>\n",
       "      <th>menu_item</th>\n",
       "      <th>listed_in(type)</th>\n",
       "      <th>listed_in(city)</th>\n",
       "    </tr>\n",
       "  </thead>\n",
       "  <tbody>\n",
       "    <tr>\n",
       "      <th>0</th>\n",
       "      <td>942, 21st Main Road, 2nd Stage, Banashankari, ...</td>\n",
       "      <td>jalsa</td>\n",
       "      <td>1</td>\n",
       "      <td>1</td>\n",
       "      <td>4.1</td>\n",
       "      <td>775</td>\n",
       "      <td>0</td>\n",
       "      <td>0</td>\n",
       "      <td>0</td>\n",
       "      <td>800.0</td>\n",
       "      <td>[('Rated 4.0', 'RATED\\n  A beautiful place to ...</td>\n",
       "      <td>[]</td>\n",
       "      <td>0</td>\n",
       "      <td>0</td>\n",
       "    </tr>\n",
       "  </tbody>\n",
       "</table>\n",
       "</div>"
      ],
      "text/plain": [
       "                                             address   name  online_order  \\\n",
       "0  942, 21st Main Road, 2nd Stage, Banashankari, ...  jalsa             1   \n",
       "\n",
       "   book_table  rate  votes  location  rest_type  cuisines  \\\n",
       "0           1   4.1    775         0          0         0   \n",
       "\n",
       "   approx_cost(for two people)  \\\n",
       "0                        800.0   \n",
       "\n",
       "                                        reviews_list menu_item  \\\n",
       "0  [('Rated 4.0', 'RATED\\n  A beautiful place to ...        []   \n",
       "\n",
       "   listed_in(type)  listed_in(city)  \n",
       "0                0                0  "
      ]
     },
     "execution_count": 111,
     "metadata": {},
     "output_type": "execute_result"
    }
   ],
   "source": [
    "df_fact_1.head(1)"
   ]
  },
  {
   "cell_type": "markdown",
   "id": "fe6a9de6",
   "metadata": {},
   "source": [
    "## FULL MODEL"
   ]
  },
  {
   "cell_type": "code",
   "execution_count": 112,
   "id": "bbe3d48a",
   "metadata": {},
   "outputs": [
    {
     "name": "stdout",
     "output_type": "stream",
     "text": [
      "x_train:  (28884, 10)\n",
      "x_test:  (12379, 10)\n",
      "y_train:  (28884,)\n",
      "y_test:  (12379,)\n"
     ]
    }
   ],
   "source": [
    "xb_1=df_fact_1.drop(['address','name','online_order','reviews_list','menu_item'],axis=1)\n",
    "yb_1=df_fact_1['online_order']\n",
    "\n",
    "xbc_1=sm.add_constant(xb_1)\n",
    "\n",
    "x_train_logit,x_test_logit,y_train_logit,y_test_logit=train_test_split(xbc_1,yb_1,test_size=0.3,random_state=100)\n",
    "\n",
    "print('x_train: ',x_train_logit.shape)\n",
    "print('x_test: ',x_test_logit.shape)\n",
    "print('y_train: ',y_train_logit.shape)\n",
    "print('y_test: ',y_test_logit.shape)"
   ]
  },
  {
   "cell_type": "code",
   "execution_count": 113,
   "id": "717b9754",
   "metadata": {},
   "outputs": [
    {
     "name": "stdout",
     "output_type": "stream",
     "text": [
      "Optimization terminated successfully.\n",
      "         Current function value: 0.591474\n",
      "         Iterations 5\n"
     ]
    },
    {
     "data": {
      "text/html": [
       "<table class=\"simpletable\">\n",
       "<caption>Logit Regression Results</caption>\n",
       "<tr>\n",
       "  <th>Dep. Variable:</th>     <td>online_order</td>   <th>  No. Observations:  </th>  <td> 28884</td> \n",
       "</tr>\n",
       "<tr>\n",
       "  <th>Model:</th>                 <td>Logit</td>      <th>  Df Residuals:      </th>  <td> 28874</td> \n",
       "</tr>\n",
       "<tr>\n",
       "  <th>Method:</th>                 <td>MLE</td>       <th>  Df Model:          </th>  <td>     9</td> \n",
       "</tr>\n",
       "<tr>\n",
       "  <th>Date:</th>            <td>Tue, 11 Oct 2022</td> <th>  Pseudo R-squ.:     </th>  <td>0.08020</td>\n",
       "</tr>\n",
       "<tr>\n",
       "  <th>Time:</th>                <td>15:59:06</td>     <th>  Log-Likelihood:    </th> <td> -17084.</td>\n",
       "</tr>\n",
       "<tr>\n",
       "  <th>converged:</th>             <td>True</td>       <th>  LL-Null:           </th> <td> -18574.</td>\n",
       "</tr>\n",
       "<tr>\n",
       "  <th>Covariance Type:</th>     <td>nonrobust</td>    <th>  LLR p-value:       </th>  <td> 0.000</td> \n",
       "</tr>\n",
       "</table>\n",
       "<table class=\"simpletable\">\n",
       "<tr>\n",
       "               <td></td>                  <th>coef</th>     <th>std err</th>      <th>z</th>      <th>P>|z|</th>  <th>[0.025</th>    <th>0.975]</th>  \n",
       "</tr>\n",
       "<tr>\n",
       "  <th>const</th>                       <td>   -0.1462</td> <td>    0.130</td> <td>   -1.126</td> <td> 0.260</td> <td>   -0.401</td> <td>    0.108</td>\n",
       "</tr>\n",
       "<tr>\n",
       "  <th>book_table</th>                  <td>    0.2880</td> <td>    0.050</td> <td>    5.733</td> <td> 0.000</td> <td>    0.190</td> <td>    0.386</td>\n",
       "</tr>\n",
       "<tr>\n",
       "  <th>rate</th>                        <td>    0.7415</td> <td>    0.035</td> <td>   21.137</td> <td> 0.000</td> <td>    0.673</td> <td>    0.810</td>\n",
       "</tr>\n",
       "<tr>\n",
       "  <th>votes</th>                       <td> 3.999e-05</td> <td> 1.84e-05</td> <td>    2.168</td> <td> 0.030</td> <td> 3.84e-06</td> <td> 7.61e-05</td>\n",
       "</tr>\n",
       "<tr>\n",
       "  <th>location</th>                    <td>   -0.0026</td> <td>    0.001</td> <td>   -3.783</td> <td> 0.000</td> <td>   -0.004</td> <td>   -0.001</td>\n",
       "</tr>\n",
       "<tr>\n",
       "  <th>rest_type</th>                   <td>   -0.0152</td> <td>    0.001</td> <td>  -13.849</td> <td> 0.000</td> <td>   -0.017</td> <td>   -0.013</td>\n",
       "</tr>\n",
       "<tr>\n",
       "  <th>cuisines</th>                    <td> 2.598e-05</td> <td> 2.41e-05</td> <td>    1.077</td> <td> 0.282</td> <td>-2.13e-05</td> <td> 7.33e-05</td>\n",
       "</tr>\n",
       "<tr>\n",
       "  <th>approx_cost(for two people)</th> <td>   -0.0010</td> <td> 4.11e-05</td> <td>  -23.276</td> <td> 0.000</td> <td>   -0.001</td> <td>   -0.001</td>\n",
       "</tr>\n",
       "<tr>\n",
       "  <th>listed_in(type)</th>             <td>   -0.3803</td> <td>    0.012</td> <td>  -32.829</td> <td> 0.000</td> <td>   -0.403</td> <td>   -0.358</td>\n",
       "</tr>\n",
       "<tr>\n",
       "  <th>listed_in(city)</th>             <td>   -0.0087</td> <td>    0.002</td> <td>   -4.955</td> <td> 0.000</td> <td>   -0.012</td> <td>   -0.005</td>\n",
       "</tr>\n",
       "</table>"
      ],
      "text/plain": [
       "<class 'statsmodels.iolib.summary.Summary'>\n",
       "\"\"\"\n",
       "                           Logit Regression Results                           \n",
       "==============================================================================\n",
       "Dep. Variable:           online_order   No. Observations:                28884\n",
       "Model:                          Logit   Df Residuals:                    28874\n",
       "Method:                           MLE   Df Model:                            9\n",
       "Date:                Tue, 11 Oct 2022   Pseudo R-squ.:                 0.08020\n",
       "Time:                        15:59:06   Log-Likelihood:                -17084.\n",
       "converged:                       True   LL-Null:                       -18574.\n",
       "Covariance Type:            nonrobust   LLR p-value:                     0.000\n",
       "===============================================================================================\n",
       "                                  coef    std err          z      P>|z|      [0.025      0.975]\n",
       "-----------------------------------------------------------------------------------------------\n",
       "const                          -0.1462      0.130     -1.126      0.260      -0.401       0.108\n",
       "book_table                      0.2880      0.050      5.733      0.000       0.190       0.386\n",
       "rate                            0.7415      0.035     21.137      0.000       0.673       0.810\n",
       "votes                        3.999e-05   1.84e-05      2.168      0.030    3.84e-06    7.61e-05\n",
       "location                       -0.0026      0.001     -3.783      0.000      -0.004      -0.001\n",
       "rest_type                      -0.0152      0.001    -13.849      0.000      -0.017      -0.013\n",
       "cuisines                     2.598e-05   2.41e-05      1.077      0.282   -2.13e-05    7.33e-05\n",
       "approx_cost(for two people)    -0.0010   4.11e-05    -23.276      0.000      -0.001      -0.001\n",
       "listed_in(type)                -0.3803      0.012    -32.829      0.000      -0.403      -0.358\n",
       "listed_in(city)                -0.0087      0.002     -4.955      0.000      -0.012      -0.005\n",
       "===============================================================================================\n",
       "\"\"\""
      ]
     },
     "execution_count": 113,
     "metadata": {},
     "output_type": "execute_result"
    }
   ],
   "source": [
    "model_logit=sm.Logit(y_train_logit,x_train_logit).fit()\n",
    "model_logit.summary()"
   ]
  },
  {
   "cell_type": "code",
   "execution_count": 114,
   "id": "998ac10c",
   "metadata": {},
   "outputs": [
    {
     "data": {
      "text/plain": [
       "const                          0.863960\n",
       "book_table                     1.333762\n",
       "rate                           2.099005\n",
       "votes                          1.000040\n",
       "location                       0.997386\n",
       "rest_type                      0.984870\n",
       "cuisines                       1.000026\n",
       "approx_cost(for two people)    0.999044\n",
       "listed_in(type)                0.683666\n",
       "listed_in(city)                0.991361\n",
       "dtype: float64"
      ]
     },
     "execution_count": 114,
     "metadata": {},
     "output_type": "execute_result"
    }
   ],
   "source": [
    "odd=np.exp(model_logit.params)\n",
    "odd"
   ]
  },
  {
   "cell_type": "code",
   "execution_count": 115,
   "id": "19df61d3",
   "metadata": {},
   "outputs": [
    {
     "data": {
      "text/plain": [
       "31366    0.557727\n",
       "1151     0.733435\n",
       "15284    0.336231\n",
       "18368    0.617611\n",
       "5343     0.312727\n",
       "           ...   \n",
       "9831     0.840876\n",
       "11617    0.846129\n",
       "38704    0.490355\n",
       "14543    0.649099\n",
       "28122    0.657086\n",
       "Length: 12379, dtype: float64"
      ]
     },
     "execution_count": 115,
     "metadata": {},
     "output_type": "execute_result"
    }
   ],
   "source": [
    "y_pred_prob_logit=model_logit.predict(x_test_logit)\n",
    "y_pred_prob_logit"
   ]
  },
  {
   "cell_type": "code",
   "execution_count": 116,
   "id": "41a64b03",
   "metadata": {},
   "outputs": [],
   "source": [
    "y_pred_logit=[1 if i>0.5 else 0 for i in y_pred_prob_logit]\n"
   ]
  },
  {
   "cell_type": "code",
   "execution_count": 117,
   "id": "29972b88",
   "metadata": {},
   "outputs": [],
   "source": [
    "from sklearn.metrics import confusion_matrix\n",
    "def cm_matrix(x,y):\n",
    "\n",
    "    plt.figure(figsize=(10,5))\n",
    "    cm=confusion_matrix(x,y)\n",
    "    confusion=pd.DataFrame(cm,columns=['predict 0','predict 1'],index=['actual 0','actual 1'])\n",
    "    sns.heatmap(confusion,annot=True,fmt='.0f')"
   ]
  },
  {
   "cell_type": "code",
   "execution_count": 118,
   "id": "720900ab",
   "metadata": {},
   "outputs": [
    {
     "data": {
      "image/png": "[encoded data removed]",
      "text/plain": [
       "<Figure size 720x360 with 2 Axes>"
      ]
     },
     "metadata": {
      "needs_background": "light"
     },
     "output_type": "display_data"
    }
   ],
   "source": [
    "cm_matrix(y_test_logit,y_pred_logit)"
   ]
  },
  {
   "cell_type": "code",
   "execution_count": 119,
   "id": "9c14edc8",
   "metadata": {},
   "outputs": [],
   "source": [
    "def roc(y,x):\n",
    "    plt.figure(figsize=(10,5))\n",
    "    fpr,tpr,thresold=roc_curve(y,x)\n",
    "    # plot ROC curve\n",
    "    plt.plot(fpr,tpr)\n",
    "\n",
    "    # SET LIMITS FOR X AND Y AXES\n",
    "    plt.xlim([0.0,1.0])\n",
    "    plt.ylim([0.0,1.0])\n",
    "\n",
    "    # plot the straight line showing warst prediction for the model\n",
    "    plt.plot([0,1],[0,1],'r--')\n",
    "\n",
    "    plt.xlabel('FPR')\n",
    "    plt.ylabel('TPR')\n",
    "\n",
    "\n",
    "    auc=round(roc_auc_score(y,x),4)\n",
    "    plt.text(x=0.6,y=0.5,s=('AUC Score',auc))\n",
    "\n",
    "    plt.grid(True)\n",
    "    plt.show()\n",
    "\n",
    "    print(thresold)"
   ]
  },
  {
   "cell_type": "code",
   "execution_count": 120,
   "id": "344dfb95",
   "metadata": {},
   "outputs": [
    {
     "data": {
      "image/png": "[encoded data removed]",
      "text/plain": [
       "<Figure size 720x360 with 1 Axes>"
      ]
     },
     "metadata": {
      "needs_background": "light"
     },
     "output_type": "display_data"
    },
    {
     "name": "stdout",
     "output_type": "stream",
     "text": [
      "[1.94451729 0.94451729 0.92462066 ... 0.13934796 0.13857733 0.01519858]\n"
     ]
    }
   ],
   "source": [
    "roc(y_test_logit,y_pred_prob_logit)"
   ]
  },
  {
   "cell_type": "code",
   "execution_count": 121,
   "id": "ae9fd9c7",
   "metadata": {},
   "outputs": [],
   "source": [
    "def summary(x,y):\n",
    "    cm=confusion_matrix(x,y)\n",
    "    TN=cm[0][0]\n",
    "    FP=cm[0][1]\n",
    "    FN=cm[1][0]\n",
    "    TP=cm[1][1]\n",
    "\n",
    "    ACCURACY=(TP+TN)/(TP+TN+FP+FN)\n",
    "    ACCURACY\n",
    "\n",
    "    PRECISION=TP/(TP+FP)\n",
    "    PRECISION\n",
    "\n",
    "    RECALL=TP/(TP+FN)\n",
    "    RECALL\n",
    "\n",
    "    SPECIFICITY=TN/(TN+FP)\n",
    "    SPECIFICITY\n",
    "\n",
    "    FPR=1-SPECIFICITY\n",
    "    FPR\n",
    "\n",
    "    F1_SCORE=2*((PRECISION*RECALL)/(PRECISION+RECALL))\n",
    "    F1_SCORE\n",
    "\n",
    "    print('accuracy: ', ACCURACY)\n",
    "    print('precision: ', PRECISION)\n",
    "    print('recall: ', RECALL)\n",
    "    print('specificity: ',SPECIFICITY)\n",
    "    print('fpr: ', FPR)\n",
    "    print('F1-specificity: ', F1_SCORE)"
   ]
  },
  {
   "cell_type": "code",
   "execution_count": 122,
   "id": "24674098",
   "metadata": {},
   "outputs": [
    {
     "name": "stdout",
     "output_type": "stream",
     "text": [
      "accuracy:  0.6992487276839809\n",
      "precision:  0.7053721320649132\n",
      "recall:  0.9306016980435585\n",
      "specificity:  0.2570555032925682\n",
      "fpr:  0.7429444967074318\n",
      "F1-specificity:  0.8024828903390101\n"
     ]
    }
   ],
   "source": [
    "summary(y_test_logit,y_pred_logit)"
   ]
  },
  {
   "cell_type": "markdown",
   "id": "5dd94d18",
   "metadata": {},
   "source": [
    "## LOGISTIC REGRESSION MODEL...."
   ]
  },
  {
   "cell_type": "code",
   "execution_count": 123,
   "id": "88eb629f",
   "metadata": {},
   "outputs": [
    {
     "name": "stdout",
     "output_type": "stream",
     "text": [
      "x_train:  (28884, 9)\n",
      "x_test:  (12379, 9)\n",
      "y_train:  (28884,)\n",
      "y_test:  (12379,)\n"
     ]
    }
   ],
   "source": [
    "xb_lr=df_fact_1.drop(['address','name','online_order','reviews_list','menu_item'],axis=1)\n",
    "yb_lr=df_fact_1['online_order']\n",
    "\n",
    "#xbc_1=sm.add_constant(xb_1)\n",
    "\n",
    "x_train_lr,x_test_lr,y_train_lr,y_test_lr=train_test_split(xb_lr,yb_lr,test_size=0.3,random_state=100)\n",
    "\n",
    "print('x_train: ',x_train_lr.shape)\n",
    "print('x_test: ',x_test_lr.shape)\n",
    "print('y_train: ',y_train_lr.shape)\n",
    "print('y_test: ',y_test_lr.shape)"
   ]
  },
  {
   "cell_type": "code",
   "execution_count": 124,
   "id": "3e16dcc5",
   "metadata": {},
   "outputs": [
    {
     "name": "stdout",
     "output_type": "stream",
     "text": [
      "[1 1 0 1 0 0 1 1 1 1 1 1 0 1 0 1 0 0 1 1 1 1 1 1 1 1 1 1 0 1 1 1 1 1 1 1 1\n",
      " 1 1 1 1 1 1 1 1 0 1 1 1 1 1]\n"
     ]
    }
   ],
   "source": [
    "LR1=LogisticRegression(random_state=0)\n",
    "LR1.fit(x_train_lr,y_train_lr)\n",
    "y_pred_LR1=LR1.predict(x_test_lr)\n",
    "y_pred_prob_LR1=LR1.predict_proba(x_test_lr)\n",
    "print(y_pred_LR1[:51])"
   ]
  },
  {
   "cell_type": "code",
   "execution_count": 125,
   "id": "2484c9a2",
   "metadata": {},
   "outputs": [
    {
     "data": {
      "image/png": "[encoded data removed]",
      "text/plain": [
       "<Figure size 720x360 with 2 Axes>"
      ]
     },
     "metadata": {
      "needs_background": "light"
     },
     "output_type": "display_data"
    }
   ],
   "source": [
    "cm_matrix(y_test_lr,y_pred_LR1)"
   ]
  },
  {
   "cell_type": "code",
   "execution_count": 126,
   "id": "38dc2e85",
   "metadata": {},
   "outputs": [
    {
     "data": {
      "image/png": "[encoded data removed]",
      "text/plain": [
       "<Figure size 720x360 with 1 Axes>"
      ]
     },
     "metadata": {
      "needs_background": "light"
     },
     "output_type": "display_data"
    },
    {
     "name": "stdout",
     "output_type": "stream",
     "text": [
      "[1.9540147  0.9540147  0.93525134 ... 0.12914286 0.12738651 0.01716898]\n"
     ]
    }
   ],
   "source": [
    "roc(y_test_lr,y_pred_prob_LR1[:,1])"
   ]
  },
  {
   "cell_type": "code",
   "execution_count": 127,
   "id": "cd8e72d5",
   "metadata": {
    "scrolled": true
   },
   "outputs": [
    {
     "name": "stdout",
     "output_type": "stream",
     "text": [
      "accuracy:  0.7009451490427336\n",
      "precision:  0.7063321831576984\n",
      "recall:  0.9319552110249785\n",
      "specificity:  0.2594073377234243\n",
      "fpr:  0.7405926622765757\n",
      "F1-specificity:  0.803607427055703\n"
     ]
    }
   ],
   "source": [
    "summary(y_test_lr,y_pred_LR1)"
   ]
  },
  {
   "cell_type": "markdown",
   "id": "9d4931a8",
   "metadata": {},
   "source": [
    "## DECISION TREE....."
   ]
  },
  {
   "cell_type": "code",
   "execution_count": 128,
   "id": "4a915ad6",
   "metadata": {},
   "outputs": [
    {
     "name": "stdout",
     "output_type": "stream",
     "text": [
      "Best parameters for decision tree classifier:  {'criterion': 'entropy', 'max_depth': 5, 'max_features': 'sqrt', 'max_leaf_nodes': 7, 'min_samples_leaf': 4, 'min_samples_split': 3} \n",
      "\n"
     ]
    }
   ],
   "source": [
    "tuned_paramaters = [{'criterion': ['entropy', 'gini'], \n",
    "                     'max_depth': [2,5,8],\n",
    "                     'max_features': [\"sqrt\", \"log2\"],\n",
    "                     'min_samples_split': [3,6,9],\n",
    "                     'min_samples_leaf': [4,6,7],\n",
    "                     'max_leaf_nodes': [3,5,7]}]\n",
    "\n",
    "decision_tree_classification = DecisionTreeClassifier(random_state = 10)\n",
    "\n",
    "tree_grid = GridSearchCV(estimator = decision_tree_classification, \n",
    "                         param_grid = tuned_paramaters, \n",
    "                         cv = 5)  \n",
    "\n",
    "## cv-->cross_validation\n",
    "\n",
    "# fit the model on X_train and y_train using fit()\n",
    "tree_grid_model = tree_grid.fit(x_train_lr, y_train_lr)\n",
    "\n",
    "# get the best parameters\n",
    "print('Best parameters for decision tree classifier: ', tree_grid_model.best_params_, '\\n')"
   ]
  },
  {
   "cell_type": "code",
   "execution_count": 129,
   "id": "33dc911c",
   "metadata": {},
   "outputs": [
    {
     "data": {
      "text/html": [
       "<style>#sk-container-id-1 {color: black;background-color: white;}#sk-container-id-1 pre{padding: 0;}#sk-container-id-1 div.sk-toggleable {background-color: white;}#sk-container-id-1 label.sk-toggleable__label {cursor: pointer;display: block;width: 100%;margin-bottom: 0;padding: 0.3em;box-sizing: border-box;text-align: center;}#sk-container-id-1 label.sk-toggleable__label-arrow:before {content: \"▸\";float: left;margin-right: 0.25em;color: #696969;}#sk-container-id-1 label.sk-toggleable__label-arrow:hover:before {color: black;}#sk-container-id-1 div.sk-estimator:hover label.sk-toggleable__label-arrow:before {color: black;}#sk-container-id-1 div.sk-toggleable__content {max-height: 0;max-width: 0;overflow: hidden;text-align: left;background-color: #f0f8ff;}#sk-container-id-1 div.sk-toggleable__content pre {margin: 0.2em;color: black;border-radius: 0.25em;background-color: #f0f8ff;}#sk-container-id-1 input.sk-toggleable__control:checked~div.sk-toggleable__content {max-height: 200px;max-width: 100%;overflow: auto;}#sk-container-id-1 input.sk-toggleable__control:checked~label.sk-toggleable__label-arrow:before {content: \"▾\";}#sk-container-id-1 div.sk-estimator input.sk-toggleable__control:checked~label.sk-toggleable__label {background-color: #d4ebff;}#sk-container-id-1 div.sk-label input.sk-toggleable__control:checked~label.sk-toggleable__label {background-color: #d4ebff;}#sk-container-id-1 input.sk-hidden--visually {border: 0;clip: rect(1px 1px 1px 1px);clip: rect(1px, 1px, 1px, 1px);height: 1px;margin: -1px;overflow: hidden;padding: 0;position: absolute;width: 1px;}#sk-container-id-1 div.sk-estimator {font-family: monospace;background-color: #f0f8ff;border: 1px dotted black;border-radius: 0.25em;box-sizing: border-box;margin-bottom: 0.5em;}#sk-container-id-1 div.sk-estimator:hover {background-color: #d4ebff;}#sk-container-id-1 div.sk-parallel-item::after {content: \"\";width: 100%;border-bottom: 1px solid gray;flex-grow: 1;}#sk-container-id-1 div.sk-label:hover label.sk-toggleable__label {background-color: #d4ebff;}#sk-container-id-1 div.sk-serial::before {content: \"\";position: absolute;border-left: 1px solid gray;box-sizing: border-box;top: 0;bottom: 0;left: 50%;z-index: 0;}#sk-container-id-1 div.sk-serial {display: flex;flex-direction: column;align-items: center;background-color: white;padding-right: 0.2em;padding-left: 0.2em;position: relative;}#sk-container-id-1 div.sk-item {position: relative;z-index: 1;}#sk-container-id-1 div.sk-parallel {display: flex;align-items: stretch;justify-content: center;background-color: white;position: relative;}#sk-container-id-1 div.sk-item::before, #sk-container-id-1 div.sk-parallel-item::before {content: \"\";position: absolute;border-left: 1px solid gray;box-sizing: border-box;top: 0;bottom: 0;left: 50%;z-index: -1;}#sk-container-id-1 div.sk-parallel-item {display: flex;flex-direction: column;z-index: 1;position: relative;background-color: white;}#sk-container-id-1 div.sk-parallel-item:first-child::after {align-self: flex-end;width: 50%;}#sk-container-id-1 div.sk-parallel-item:last-child::after {align-self: flex-start;width: 50%;}#sk-container-id-1 div.sk-parallel-item:only-child::after {width: 0;}#sk-container-id-1 div.sk-dashed-wrapped {border: 1px dashed gray;margin: 0 0.4em 0.5em 0.4em;box-sizing: border-box;padding-bottom: 0.4em;background-color: white;}#sk-container-id-1 div.sk-label label {font-family: monospace;font-weight: bold;display: inline-block;line-height: 1.2em;}#sk-container-id-1 div.sk-label-container {text-align: center;}#sk-container-id-1 div.sk-container {/* jupyter's `normalize.less` sets `[hidden] { display: none; }` but bootstrap.min.css set `[hidden] { display: none !important; }` so we also need the `!important` here to be able to override the default hidden behavior on the sphinx rendered scikit-learn.org. See: https://github.com/scikit-learn/scikit-learn/issues/21755 */display: inline-block !important;position: relative;}#sk-container-id-1 div.sk-text-repr-fallback {display: none;}</style><div id=\"sk-container-id-1\" class=\"sk-top-container\"><div class=\"sk-text-repr-fallback\"><pre>DecisionTreeClassifier(criterion=&#x27;entropy&#x27;, max_depth=5, max_features=&#x27;sqrt&#x27;,\n",
       "                       max_leaf_nodes=7, min_samples_leaf=4,\n",
       "                       min_samples_split=3, random_state=10)</pre><b>In a Jupyter environment, please rerun this cell to show the HTML representation or trust the notebook. <br />On GitHub, the HTML representation is unable to render, please try loading this page with nbviewer.org.</b></div><div class=\"sk-container\" hidden><div class=\"sk-item\"><div class=\"sk-estimator sk-toggleable\"><input class=\"sk-toggleable__control sk-hidden--visually\" id=\"sk-estimator-id-1\" type=\"checkbox\" checked><label for=\"sk-estimator-id-1\" class=\"sk-toggleable__label sk-toggleable__label-arrow\">DecisionTreeClassifier</label><div class=\"sk-toggleable__content\"><pre>DecisionTreeClassifier(criterion=&#x27;entropy&#x27;, max_depth=5, max_features=&#x27;sqrt&#x27;,\n",
       "                       max_leaf_nodes=7, min_samples_leaf=4,\n",
       "                       min_samples_split=3, random_state=10)</pre></div></div></div></div></div>"
      ],
      "text/plain": [
       "DecisionTreeClassifier(criterion='entropy', max_depth=5, max_features='sqrt',\n",
       "                       max_leaf_nodes=7, min_samples_leaf=4,\n",
       "                       min_samples_split=3, random_state=10)"
      ]
     },
     "execution_count": 129,
     "metadata": {},
     "output_type": "execute_result"
    }
   ],
   "source": [
    "decision_tree_classificaton=DecisionTreeClassifier(criterion='entropy',random_state=10,max_depth=5,max_features='sqrt',max_leaf_nodes=7,min_samples_leaf=4,min_samples_split=3)\n",
    "\n",
    "decision_tree=decision_tree_classificaton.fit(x_train_lr,y_train_lr)\n",
    "decision_tree_classificaton"
   ]
  },
  {
   "cell_type": "code",
   "execution_count": 130,
   "id": "9d3ab72d",
   "metadata": {},
   "outputs": [
    {
     "name": "stdout",
     "output_type": "stream",
     "text": [
      "              precision    recall  f1-score   support\n",
      "\n",
      "           0       0.63      0.33      0.43      9909\n",
      "           1       0.72      0.90      0.80     18975\n",
      "\n",
      "    accuracy                           0.70     28884\n",
      "   macro avg       0.67      0.61      0.61     28884\n",
      "weighted avg       0.69      0.70      0.67     28884\n",
      "\n"
     ]
    }
   ],
   "source": [
    "train_pred_dt=decision_tree.predict(x_train_lr)\n",
    "print(classification_report(y_train_lr,train_pred_dt))"
   ]
  },
  {
   "cell_type": "code",
   "execution_count": 131,
   "id": "efc3a1ef",
   "metadata": {},
   "outputs": [
    {
     "name": "stdout",
     "output_type": "stream",
     "text": [
      "              precision    recall  f1-score   support\n",
      "\n",
      "           0       0.62      0.32      0.43      4252\n",
      "           1       0.72      0.90      0.80      8127\n",
      "\n",
      "    accuracy                           0.70     12379\n",
      "   macro avg       0.67      0.61      0.61     12379\n",
      "weighted avg       0.69      0.70      0.67     12379\n",
      "\n"
     ]
    }
   ],
   "source": [
    "test_pred_dt=decision_tree.predict(x_test_lr)\n",
    "print(classification_report(y_test_lr,test_pred_dt))"
   ]
  },
  {
   "cell_type": "markdown",
   "id": "c83b3551",
   "metadata": {},
   "source": [
    "## random forest....."
   ]
  },
  {
   "cell_type": "code",
   "execution_count": 132,
   "id": "0ef2bfd6",
   "metadata": {},
   "outputs": [
    {
     "name": "stdout",
     "output_type": "stream",
     "text": [
      "Best parameters for decision tree classifier:  {'criterion': 'gini', 'max_depth': 9, 'n_estimators': 10} \n",
      "\n"
     ]
    }
   ],
   "source": [
    "tuned_paramaters = [{'criterion': ['entropy', 'gini'], \n",
    "                     'max_depth': range(2, 10),\n",
    "                     'n_estimators': range(5,11)}]\n",
    "\n",
    "random_forest = RandomForestClassifier(random_state=10)\n",
    "\n",
    "forest_grid = GridSearchCV(estimator = random_forest, \n",
    "                         param_grid = tuned_paramaters, \n",
    "                         cv = 5)\n",
    "\n",
    "# fit the model on X_train and y_train using fit()\n",
    "forest_grid_model = forest_grid.fit(x_train_lr, y_train_lr)\n",
    "\n",
    "# get the best parameters\n",
    "print('Best parameters for decision tree classifier: ', forest_grid_model.best_params_, '\\n')"
   ]
  },
  {
   "cell_type": "code",
   "execution_count": 133,
   "id": "81c2edcf",
   "metadata": {},
   "outputs": [],
   "source": [
    "rf_classification=RandomForestClassifier(n_estimators=10,random_state=15,max_depth=9,criterion='gini')\n",
    "\n",
    "# use fit() to fit the model on the train set\n",
    "\n",
    "rf_model=rf_classification.fit(x_train_lr,y_train_lr)"
   ]
  },
  {
   "cell_type": "code",
   "execution_count": 134,
   "id": "cf497c71",
   "metadata": {},
   "outputs": [
    {
     "name": "stdout",
     "output_type": "stream",
     "text": [
      "              precision    recall  f1-score   support\n",
      "\n",
      "           0       0.85      0.56      0.67      9909\n",
      "           1       0.80      0.95      0.87     18975\n",
      "\n",
      "    accuracy                           0.81     28884\n",
      "   macro avg       0.83      0.75      0.77     28884\n",
      "weighted avg       0.82      0.81      0.80     28884\n",
      "\n"
     ]
    }
   ],
   "source": [
    "train_pred=rf_model.predict(x_train_lr)\n",
    "\n",
    "# retun the performance measure on train set\n",
    "print(classification_report(y_train_lr,train_pred))"
   ]
  },
  {
   "cell_type": "code",
   "execution_count": 135,
   "id": "7f5d6938",
   "metadata": {},
   "outputs": [
    {
     "name": "stdout",
     "output_type": "stream",
     "text": [
      "              precision    recall  f1-score   support\n",
      "\n",
      "           0       0.82      0.52      0.63      4252\n",
      "           1       0.79      0.94      0.86      8127\n",
      "\n",
      "    accuracy                           0.79     12379\n",
      "   macro avg       0.80      0.73      0.75     12379\n",
      "weighted avg       0.80      0.79      0.78     12379\n",
      "\n"
     ]
    }
   ],
   "source": [
    "test_pred=rf_model.predict(x_test_lr)\n",
    "\n",
    "# retun the performance measure on train set\n",
    "print(classification_report(y_test_lr,test_pred))"
   ]
  },
  {
   "cell_type": "code",
   "execution_count": 136,
   "id": "dddc0727",
   "metadata": {},
   "outputs": [
    {
     "data": {
      "image/png": "[encoded data removed]",
      "text/plain": [
       "<Figure size 720x360 with 1 Axes>"
      ]
     },
     "metadata": {
      "needs_background": "light"
     },
     "output_type": "display_data"
    },
    {
     "name": "stdout",
     "output_type": "stream",
     "text": [
      "[1.95647731e+00 9.56477306e-01 9.40739795e-01 ... 1.80661474e-03\n",
      " 9.21658986e-04 0.00000000e+00]\n"
     ]
    }
   ],
   "source": [
    "y_pred_prob_rf=rf_model.predict_proba(x_test_lr)\n",
    "roc(y_test_lr,y_pred_prob_rf[:,1])"
   ]
  },
  {
   "cell_type": "markdown",
   "id": "44f94a1d",
   "metadata": {},
   "source": [
    "## important feature..."
   ]
  },
  {
   "cell_type": "code",
   "execution_count": 137,
   "id": "edb594c7",
   "metadata": {},
   "outputs": [],
   "source": [
    "important_feature=pd.DataFrame({'features':x_train_lr.columns,\n",
    "                               'Importance':rf_model.feature_importances_})\n",
    "\n",
    "important_features=important_feature.sort_values(by='Importance',ascending=False)\n"
   ]
  },
  {
   "cell_type": "code",
   "execution_count": 138,
   "id": "e1c81501",
   "metadata": {},
   "outputs": [
    {
     "data": {
      "text/plain": [
       "<AxesSubplot:xlabel='Importance', ylabel='features'>"
      ]
     },
     "execution_count": 138,
     "metadata": {},
     "output_type": "execute_result"
    },
    {
     "data": {
      "image/png": "[encoded data removed]",
      "text/plain": [
       "<Figure size 432x288 with 1 Axes>"
      ]
     },
     "metadata": {
      "needs_background": "light"
     },
     "output_type": "display_data"
    }
   ],
   "source": [
    "sns.barplot(data=important_features,x='Importance',y='features')"
   ]
  },
  {
   "cell_type": "markdown",
   "id": "249b1103",
   "metadata": {},
   "source": [
    "## visualization....."
   ]
  },
  {
   "cell_type": "code",
   "execution_count": 139,
   "id": "ef7cdbdd",
   "metadata": {
    "scrolled": false
   },
   "outputs": [
    {
     "data": {
      "text/html": [
       "<div>\n",
       "<style scoped>\n",
       "    .dataframe tbody tr th:only-of-type {\n",
       "        vertical-align: middle;\n",
       "    }\n",
       "\n",
       "    .dataframe tbody tr th {\n",
       "        vertical-align: top;\n",
       "    }\n",
       "\n",
       "    .dataframe thead th {\n",
       "        text-align: right;\n",
       "    }\n",
       "</style>\n",
       "<table border=\"1\" class=\"dataframe\">\n",
       "  <thead>\n",
       "    <tr style=\"text-align: right;\">\n",
       "      <th></th>\n",
       "      <th>address</th>\n",
       "      <th>name</th>\n",
       "      <th>online_order</th>\n",
       "      <th>book_table</th>\n",
       "      <th>rate</th>\n",
       "      <th>votes</th>\n",
       "      <th>location</th>\n",
       "      <th>rest_type</th>\n",
       "      <th>cuisines</th>\n",
       "      <th>approx_cost(for two people)</th>\n",
       "      <th>reviews_list</th>\n",
       "      <th>menu_item</th>\n",
       "      <th>listed_in(type)</th>\n",
       "      <th>listed_in(city)</th>\n",
       "    </tr>\n",
       "  </thead>\n",
       "  <tbody>\n",
       "    <tr>\n",
       "      <th>0</th>\n",
       "      <td>942, 21st Main Road, 2nd Stage, Banashankari, ...</td>\n",
       "      <td>jalsa</td>\n",
       "      <td>1</td>\n",
       "      <td>1</td>\n",
       "      <td>4.1</td>\n",
       "      <td>775</td>\n",
       "      <td>0</td>\n",
       "      <td>0</td>\n",
       "      <td>0</td>\n",
       "      <td>800.0</td>\n",
       "      <td>[('Rated 4.0', 'RATED\\n  A beautiful place to ...</td>\n",
       "      <td>[]</td>\n",
       "      <td>0</td>\n",
       "      <td>0</td>\n",
       "    </tr>\n",
       "    <tr>\n",
       "      <th>1</th>\n",
       "      <td>2nd Floor, 80 Feet Road, Near Big Bazaar, 6th ...</td>\n",
       "      <td>spice elephant</td>\n",
       "      <td>1</td>\n",
       "      <td>0</td>\n",
       "      <td>4.1</td>\n",
       "      <td>787</td>\n",
       "      <td>0</td>\n",
       "      <td>0</td>\n",
       "      <td>1</td>\n",
       "      <td>800.0</td>\n",
       "      <td>[('Rated 4.0', 'RATED\\n  Had been here for din...</td>\n",
       "      <td>[]</td>\n",
       "      <td>0</td>\n",
       "      <td>0</td>\n",
       "    </tr>\n",
       "  </tbody>\n",
       "</table>\n",
       "</div>"
      ],
      "text/plain": [
       "                                             address            name  \\\n",
       "0  942, 21st Main Road, 2nd Stage, Banashankari, ...           jalsa   \n",
       "1  2nd Floor, 80 Feet Road, Near Big Bazaar, 6th ...  spice elephant   \n",
       "\n",
       "   online_order  book_table  rate  votes  location  rest_type  cuisines  \\\n",
       "0             1           1   4.1    775         0          0         0   \n",
       "1             1           0   4.1    787         0          0         1   \n",
       "\n",
       "   approx_cost(for two people)  \\\n",
       "0                        800.0   \n",
       "1                        800.0   \n",
       "\n",
       "                                        reviews_list menu_item  \\\n",
       "0  [('Rated 4.0', 'RATED\\n  A beautiful place to ...        []   \n",
       "1  [('Rated 4.0', 'RATED\\n  Had been here for din...        []   \n",
       "\n",
       "   listed_in(type)  listed_in(city)  \n",
       "0                0                0  \n",
       "1                0                0  "
      ]
     },
     "execution_count": 139,
     "metadata": {},
     "output_type": "execute_result"
    }
   ],
   "source": [
    "df_fact.head(2)"
   ]
  },
  {
   "cell_type": "code",
   "execution_count": 140,
   "id": "b49a9985",
   "metadata": {},
   "outputs": [],
   "source": [
    "df_vis=df.copy()"
   ]
  },
  {
   "cell_type": "code",
   "execution_count": 141,
   "id": "1d11e2bd",
   "metadata": {},
   "outputs": [],
   "source": [
    "def rate(x):\n",
    "    if 0<=x<=1:\n",
    "        return 'Rate 1'\n",
    "    if 1<x<=2:\n",
    "        return 'Rate 2'\n",
    "    if 2<=x<3:\n",
    "        return 'Rate 3'\n",
    "    if 3<=x<4:\n",
    "        return 'Rate 4'\n",
    "    if 4<=x<=5:\n",
    "        return 'Rate 5'"
   ]
  },
  {
   "cell_type": "code",
   "execution_count": 142,
   "id": "d3812e39",
   "metadata": {},
   "outputs": [
    {
     "data": {
      "text/plain": [
       "0"
      ]
     },
     "execution_count": 142,
     "metadata": {},
     "output_type": "execute_result"
    }
   ],
   "source": [
    "df_vis['rating']=df_vis['rate'].apply(rate)\n",
    "df_vis['rating'].isnull().sum()"
   ]
  },
  {
   "cell_type": "markdown",
   "id": "94c02d43",
   "metadata": {},
   "source": [
    "### online order available or not"
   ]
  },
  {
   "cell_type": "code",
   "execution_count": 143,
   "id": "81664c18",
   "metadata": {},
   "outputs": [
    {
     "data": {
      "text/plain": [
       "1    27102\n",
       "0    14161\n",
       "Name: online_order, dtype: int64"
      ]
     },
     "execution_count": 143,
     "metadata": {},
     "output_type": "execute_result"
    }
   ],
   "source": [
    "df_fact['online_order'].value_counts()"
   ]
  },
  {
   "cell_type": "code",
   "execution_count": 144,
   "id": "31930951",
   "metadata": {},
   "outputs": [
    {
     "data": {
      "image/png": "[encoded data removed]",
      "text/plain": [
       "<Figure size 720x360 with 1 Axes>"
      ]
     },
     "metadata": {
      "needs_background": "light"
     },
     "output_type": "display_data"
    }
   ],
   "source": [
    "plt.figure(figsize=(10,5))\n",
    "sns.countplot(df_fact['online_order'])\n",
    "plt.title('1: online order available \\n 0: online order not available',fontsize=20)\n",
    "plt.show()"
   ]
  },
  {
   "cell_type": "markdown",
   "id": "bb30e963",
   "metadata": {},
   "source": [
    "### book the table or not..."
   ]
  },
  {
   "cell_type": "code",
   "execution_count": 145,
   "id": "571b6720",
   "metadata": {},
   "outputs": [
    {
     "data": {
      "text/plain": [
       "1    27102\n",
       "0    14161\n",
       "Name: online_order, dtype: int64"
      ]
     },
     "execution_count": 145,
     "metadata": {},
     "output_type": "execute_result"
    }
   ],
   "source": [
    "df_fact['online_order'].value_counts()"
   ]
  },
  {
   "cell_type": "code",
   "execution_count": 146,
   "id": "a8a0a792",
   "metadata": {},
   "outputs": [
    {
     "data": {
      "image/png": "[encoded data removed]",
      "text/plain": [
       "<Figure size 720x360 with 1 Axes>"
      ]
     },
     "metadata": {
      "needs_background": "light"
     },
     "output_type": "display_data"
    }
   ],
   "source": [
    "plt.figure(figsize=(10,5))\n",
    "sns.countplot(df_fact['online_order'])\n",
    "plt.title('1: customer book the table \\n 2: customer not book the table',fontsize=20)\n",
    "plt.show()"
   ]
  },
  {
   "cell_type": "code",
   "execution_count": 147,
   "id": "95d4b155",
   "metadata": {
    "scrolled": true
   },
   "outputs": [
    {
     "data": {
      "text/plain": [
       "Index(['address', 'name', 'online_order', 'book_table', 'rate', 'votes',\n",
       "       'location', 'rest_type', 'cuisines', 'approx_cost(for two people)',\n",
       "       'reviews_list', 'menu_item', 'listed_in(type)', 'listed_in(city)'],\n",
       "      dtype='object')"
      ]
     },
     "execution_count": 147,
     "metadata": {},
     "output_type": "execute_result"
    }
   ],
   "source": [
    "df_fact.columns"
   ]
  },
  {
   "cell_type": "code",
   "execution_count": 148,
   "id": "9ebf3c05",
   "metadata": {},
   "outputs": [],
   "source": [
    "df_vis[['rest_type_1','rest_type_2']]=df_vis['rest_type'].str.split(',',expand=True)"
   ]
  },
  {
   "cell_type": "code",
   "execution_count": 149,
   "id": "73b202f0",
   "metadata": {},
   "outputs": [
    {
     "data": {
      "text/html": [
       "<div>\n",
       "<style scoped>\n",
       "    .dataframe tbody tr th:only-of-type {\n",
       "        vertical-align: middle;\n",
       "    }\n",
       "\n",
       "    .dataframe tbody tr th {\n",
       "        vertical-align: top;\n",
       "    }\n",
       "\n",
       "    .dataframe thead th {\n",
       "        text-align: right;\n",
       "    }\n",
       "</style>\n",
       "<table border=\"1\" class=\"dataframe\">\n",
       "  <thead>\n",
       "    <tr style=\"text-align: right;\">\n",
       "      <th></th>\n",
       "      <th>address</th>\n",
       "      <th>name</th>\n",
       "      <th>online_order</th>\n",
       "      <th>book_table</th>\n",
       "      <th>rate</th>\n",
       "      <th>votes</th>\n",
       "      <th>location</th>\n",
       "      <th>rest_type</th>\n",
       "      <th>cuisines</th>\n",
       "      <th>approx_cost(for two people)</th>\n",
       "      <th>reviews_list</th>\n",
       "      <th>menu_item</th>\n",
       "      <th>listed_in(type)</th>\n",
       "      <th>listed_in(city)</th>\n",
       "      <th>rating</th>\n",
       "      <th>rest_type_1</th>\n",
       "      <th>rest_type_2</th>\n",
       "    </tr>\n",
       "  </thead>\n",
       "  <tbody>\n",
       "    <tr>\n",
       "      <th>0</th>\n",
       "      <td>942, 21st Main Road, 2nd Stage, Banashankari, ...</td>\n",
       "      <td>jalsa</td>\n",
       "      <td>1</td>\n",
       "      <td>1</td>\n",
       "      <td>4.1</td>\n",
       "      <td>775</td>\n",
       "      <td>Banashankari</td>\n",
       "      <td>casualdining</td>\n",
       "      <td>North Indian, Mughlai, Chinese</td>\n",
       "      <td>800.0</td>\n",
       "      <td>[('Rated 4.0', 'RATED\\n  A beautiful place to ...</td>\n",
       "      <td>[]</td>\n",
       "      <td>Buffet</td>\n",
       "      <td>Banashankari</td>\n",
       "      <td>Rate 5</td>\n",
       "      <td>casualdining</td>\n",
       "      <td>None</td>\n",
       "    </tr>\n",
       "    <tr>\n",
       "      <th>1</th>\n",
       "      <td>2nd Floor, 80 Feet Road, Near Big Bazaar, 6th ...</td>\n",
       "      <td>spice elephant</td>\n",
       "      <td>1</td>\n",
       "      <td>0</td>\n",
       "      <td>4.1</td>\n",
       "      <td>787</td>\n",
       "      <td>Banashankari</td>\n",
       "      <td>casualdining</td>\n",
       "      <td>Chinese, North Indian, Thai</td>\n",
       "      <td>800.0</td>\n",
       "      <td>[('Rated 4.0', 'RATED\\n  Had been here for din...</td>\n",
       "      <td>[]</td>\n",
       "      <td>Buffet</td>\n",
       "      <td>Banashankari</td>\n",
       "      <td>Rate 5</td>\n",
       "      <td>casualdining</td>\n",
       "      <td>None</td>\n",
       "    </tr>\n",
       "    <tr>\n",
       "      <th>2</th>\n",
       "      <td>1112, Next to KIMS Medical College, 17th Cross...</td>\n",
       "      <td>san churro cafe</td>\n",
       "      <td>1</td>\n",
       "      <td>0</td>\n",
       "      <td>3.8</td>\n",
       "      <td>918</td>\n",
       "      <td>Banashankari</td>\n",
       "      <td>cafe,casualdining</td>\n",
       "      <td>Cafe, Mexican, Italian</td>\n",
       "      <td>800.0</td>\n",
       "      <td>[('Rated 3.0', \"RATED\\n  Ambience is not that ...</td>\n",
       "      <td>[]</td>\n",
       "      <td>Buffet</td>\n",
       "      <td>Banashankari</td>\n",
       "      <td>Rate 4</td>\n",
       "      <td>cafe</td>\n",
       "      <td>casualdining</td>\n",
       "    </tr>\n",
       "    <tr>\n",
       "      <th>3</th>\n",
       "      <td>1st Floor, Annakuteera, 3rd Stage, Banashankar...</td>\n",
       "      <td>addhuri udupi bhojana</td>\n",
       "      <td>0</td>\n",
       "      <td>0</td>\n",
       "      <td>3.7</td>\n",
       "      <td>88</td>\n",
       "      <td>Banashankari</td>\n",
       "      <td>quickbites</td>\n",
       "      <td>South Indian, North Indian</td>\n",
       "      <td>300.0</td>\n",
       "      <td>[('Rated 4.0', \"RATED\\n  Great food and proper...</td>\n",
       "      <td>[]</td>\n",
       "      <td>Buffet</td>\n",
       "      <td>Banashankari</td>\n",
       "      <td>Rate 4</td>\n",
       "      <td>quickbites</td>\n",
       "      <td>None</td>\n",
       "    </tr>\n",
       "    <tr>\n",
       "      <th>4</th>\n",
       "      <td>10, 3rd Floor, Lakshmi Associates, Gandhi Baza...</td>\n",
       "      <td>grand village</td>\n",
       "      <td>0</td>\n",
       "      <td>0</td>\n",
       "      <td>3.8</td>\n",
       "      <td>166</td>\n",
       "      <td>Basavanagudi</td>\n",
       "      <td>casualdining</td>\n",
       "      <td>North Indian, Rajasthani</td>\n",
       "      <td>600.0</td>\n",
       "      <td>[('Rated 4.0', 'RATED\\n  Very good restaurant ...</td>\n",
       "      <td>[]</td>\n",
       "      <td>Buffet</td>\n",
       "      <td>Banashankari</td>\n",
       "      <td>Rate 4</td>\n",
       "      <td>casualdining</td>\n",
       "      <td>None</td>\n",
       "    </tr>\n",
       "    <tr>\n",
       "      <th>...</th>\n",
       "      <td>...</td>\n",
       "      <td>...</td>\n",
       "      <td>...</td>\n",
       "      <td>...</td>\n",
       "      <td>...</td>\n",
       "      <td>...</td>\n",
       "      <td>...</td>\n",
       "      <td>...</td>\n",
       "      <td>...</td>\n",
       "      <td>...</td>\n",
       "      <td>...</td>\n",
       "      <td>...</td>\n",
       "      <td>...</td>\n",
       "      <td>...</td>\n",
       "      <td>...</td>\n",
       "      <td>...</td>\n",
       "      <td>...</td>\n",
       "    </tr>\n",
       "    <tr>\n",
       "      <th>43528</th>\n",
       "      <td>136, SAP Labs India, KIADB Export Promotion In...</td>\n",
       "      <td>the farm house bar n grill</td>\n",
       "      <td>0</td>\n",
       "      <td>0</td>\n",
       "      <td>3.7</td>\n",
       "      <td>34</td>\n",
       "      <td>Whitefield</td>\n",
       "      <td>casualdining,bar</td>\n",
       "      <td>North Indian, Continental</td>\n",
       "      <td>800.0</td>\n",
       "      <td>[('Rated 4.0', 'RATED\\n  Ambience- Big and spa...</td>\n",
       "      <td>[]</td>\n",
       "      <td>Pubs and bars</td>\n",
       "      <td>Whitefield</td>\n",
       "      <td>Rate 4</td>\n",
       "      <td>casualdining</td>\n",
       "      <td>bar</td>\n",
       "    </tr>\n",
       "    <tr>\n",
       "      <th>43529</th>\n",
       "      <td>139/C1, Next To GR Tech Park, Pattandur Agraha...</td>\n",
       "      <td>bhagini</td>\n",
       "      <td>0</td>\n",
       "      <td>0</td>\n",
       "      <td>2.5</td>\n",
       "      <td>81</td>\n",
       "      <td>Whitefield</td>\n",
       "      <td>casualdining,bar</td>\n",
       "      <td>Andhra, South Indian, Chinese, North Indian</td>\n",
       "      <td>800.0</td>\n",
       "      <td>[('Rated 4.0', 'RATED\\n  A fine place to chill...</td>\n",
       "      <td>[]</td>\n",
       "      <td>Pubs and bars</td>\n",
       "      <td>Whitefield</td>\n",
       "      <td>Rate 3</td>\n",
       "      <td>casualdining</td>\n",
       "      <td>bar</td>\n",
       "    </tr>\n",
       "    <tr>\n",
       "      <th>43530</th>\n",
       "      <td>Four Points by Sheraton Bengaluru, 43/3, White...</td>\n",
       "      <td>best brews - four points by sheraton bengaluru...</td>\n",
       "      <td>0</td>\n",
       "      <td>0</td>\n",
       "      <td>3.6</td>\n",
       "      <td>27</td>\n",
       "      <td>Whitefield</td>\n",
       "      <td>bar</td>\n",
       "      <td>Continental</td>\n",
       "      <td>1500.0</td>\n",
       "      <td>[('Rated 5.0', \"RATED\\n  Food and service are ...</td>\n",
       "      <td>[]</td>\n",
       "      <td>Pubs and bars</td>\n",
       "      <td>Whitefield</td>\n",
       "      <td>Rate 4</td>\n",
       "      <td>bar</td>\n",
       "      <td>None</td>\n",
       "    </tr>\n",
       "    <tr>\n",
       "      <th>43531</th>\n",
       "      <td>Sheraton Grand Bengaluru Whitefield Hotel &amp; Co...</td>\n",
       "      <td>chime - sheraton grand bengaluru whitefield ho...</td>\n",
       "      <td>0</td>\n",
       "      <td>1</td>\n",
       "      <td>4.3</td>\n",
       "      <td>236</td>\n",
       "      <td>ITPL Main Road, Whitefield</td>\n",
       "      <td>bar</td>\n",
       "      <td>Finger Food</td>\n",
       "      <td>2500.0</td>\n",
       "      <td>[('Rated 4.0', 'RATED\\n  Nice and friendly pla...</td>\n",
       "      <td>[]</td>\n",
       "      <td>Pubs and bars</td>\n",
       "      <td>Whitefield</td>\n",
       "      <td>Rate 5</td>\n",
       "      <td>bar</td>\n",
       "      <td>None</td>\n",
       "    </tr>\n",
       "    <tr>\n",
       "      <th>43532</th>\n",
       "      <td>ITPL Main Road, KIADB Export Promotion Industr...</td>\n",
       "      <td>the nest - the den bengaluru</td>\n",
       "      <td>0</td>\n",
       "      <td>0</td>\n",
       "      <td>3.4</td>\n",
       "      <td>13</td>\n",
       "      <td>ITPL Main Road, Whitefield</td>\n",
       "      <td>bar,casualdining</td>\n",
       "      <td>Finger Food, North Indian, Continental</td>\n",
       "      <td>1500.0</td>\n",
       "      <td>[('Rated 5.0', 'RATED\\n  Great ambience , look...</td>\n",
       "      <td>[]</td>\n",
       "      <td>Pubs and bars</td>\n",
       "      <td>Whitefield</td>\n",
       "      <td>Rate 4</td>\n",
       "      <td>bar</td>\n",
       "      <td>casualdining</td>\n",
       "    </tr>\n",
       "  </tbody>\n",
       "</table>\n",
       "<p>41263 rows × 17 columns</p>\n",
       "</div>"
      ],
      "text/plain": [
       "                                                 address  \\\n",
       "0      942, 21st Main Road, 2nd Stage, Banashankari, ...   \n",
       "1      2nd Floor, 80 Feet Road, Near Big Bazaar, 6th ...   \n",
       "2      1112, Next to KIMS Medical College, 17th Cross...   \n",
       "3      1st Floor, Annakuteera, 3rd Stage, Banashankar...   \n",
       "4      10, 3rd Floor, Lakshmi Associates, Gandhi Baza...   \n",
       "...                                                  ...   \n",
       "43528  136, SAP Labs India, KIADB Export Promotion In...   \n",
       "43529  139/C1, Next To GR Tech Park, Pattandur Agraha...   \n",
       "43530  Four Points by Sheraton Bengaluru, 43/3, White...   \n",
       "43531  Sheraton Grand Bengaluru Whitefield Hotel & Co...   \n",
       "43532  ITPL Main Road, KIADB Export Promotion Industr...   \n",
       "\n",
       "                                                    name  online_order  \\\n",
       "0                                                  jalsa             1   \n",
       "1                                         spice elephant             1   \n",
       "2                                        san churro cafe             1   \n",
       "3                                  addhuri udupi bhojana             0   \n",
       "4                                          grand village             0   \n",
       "...                                                  ...           ...   \n",
       "43528                         the farm house bar n grill             0   \n",
       "43529                                            bhagini             0   \n",
       "43530  best brews - four points by sheraton bengaluru...             0   \n",
       "43531  chime - sheraton grand bengaluru whitefield ho...             0   \n",
       "43532                       the nest - the den bengaluru             0   \n",
       "\n",
       "       book_table  rate  votes                    location          rest_type  \\\n",
       "0               1   4.1    775                Banashankari       casualdining   \n",
       "1               0   4.1    787                Banashankari       casualdining   \n",
       "2               0   3.8    918                Banashankari  cafe,casualdining   \n",
       "3               0   3.7     88                Banashankari         quickbites   \n",
       "4               0   3.8    166                Basavanagudi       casualdining   \n",
       "...           ...   ...    ...                         ...                ...   \n",
       "43528           0   3.7     34                  Whitefield   casualdining,bar   \n",
       "43529           0   2.5     81                  Whitefield   casualdining,bar   \n",
       "43530           0   3.6     27                  Whitefield                bar   \n",
       "43531           1   4.3    236  ITPL Main Road, Whitefield                bar   \n",
       "43532           0   3.4     13  ITPL Main Road, Whitefield   bar,casualdining   \n",
       "\n",
       "                                          cuisines  \\\n",
       "0                   North Indian, Mughlai, Chinese   \n",
       "1                      Chinese, North Indian, Thai   \n",
       "2                           Cafe, Mexican, Italian   \n",
       "3                       South Indian, North Indian   \n",
       "4                         North Indian, Rajasthani   \n",
       "...                                            ...   \n",
       "43528                    North Indian, Continental   \n",
       "43529  Andhra, South Indian, Chinese, North Indian   \n",
       "43530                                  Continental   \n",
       "43531                                  Finger Food   \n",
       "43532       Finger Food, North Indian, Continental   \n",
       "\n",
       "       approx_cost(for two people)  \\\n",
       "0                            800.0   \n",
       "1                            800.0   \n",
       "2                            800.0   \n",
       "3                            300.0   \n",
       "4                            600.0   \n",
       "...                            ...   \n",
       "43528                        800.0   \n",
       "43529                        800.0   \n",
       "43530                       1500.0   \n",
       "43531                       2500.0   \n",
       "43532                       1500.0   \n",
       "\n",
       "                                            reviews_list menu_item  \\\n",
       "0      [('Rated 4.0', 'RATED\\n  A beautiful place to ...        []   \n",
       "1      [('Rated 4.0', 'RATED\\n  Had been here for din...        []   \n",
       "2      [('Rated 3.0', \"RATED\\n  Ambience is not that ...        []   \n",
       "3      [('Rated 4.0', \"RATED\\n  Great food and proper...        []   \n",
       "4      [('Rated 4.0', 'RATED\\n  Very good restaurant ...        []   \n",
       "...                                                  ...       ...   \n",
       "43528  [('Rated 4.0', 'RATED\\n  Ambience- Big and spa...        []   \n",
       "43529  [('Rated 4.0', 'RATED\\n  A fine place to chill...        []   \n",
       "43530  [('Rated 5.0', \"RATED\\n  Food and service are ...        []   \n",
       "43531  [('Rated 4.0', 'RATED\\n  Nice and friendly pla...        []   \n",
       "43532  [('Rated 5.0', 'RATED\\n  Great ambience , look...        []   \n",
       "\n",
       "      listed_in(type) listed_in(city)  rating   rest_type_1   rest_type_2  \n",
       "0              Buffet    Banashankari  Rate 5  casualdining          None  \n",
       "1              Buffet    Banashankari  Rate 5  casualdining          None  \n",
       "2              Buffet    Banashankari  Rate 4          cafe  casualdining  \n",
       "3              Buffet    Banashankari  Rate 4    quickbites          None  \n",
       "4              Buffet    Banashankari  Rate 4  casualdining          None  \n",
       "...               ...             ...     ...           ...           ...  \n",
       "43528   Pubs and bars      Whitefield  Rate 4  casualdining           bar  \n",
       "43529   Pubs and bars      Whitefield  Rate 3  casualdining           bar  \n",
       "43530   Pubs and bars      Whitefield  Rate 4           bar          None  \n",
       "43531   Pubs and bars      Whitefield  Rate 5           bar          None  \n",
       "43532   Pubs and bars      Whitefield  Rate 4           bar  casualdining  \n",
       "\n",
       "[41263 rows x 17 columns]"
      ]
     },
     "execution_count": 149,
     "metadata": {},
     "output_type": "execute_result"
    }
   ],
   "source": [
    "df_vis"
   ]
  },
  {
   "cell_type": "code",
   "execution_count": 157,
   "id": "868e3c97",
   "metadata": {},
   "outputs": [
    {
     "data": {
      "text/plain": [
       "<matplotlib.legend.Legend at 0x1883c3b8ac0>"
      ]
     },
     "execution_count": 157,
     "metadata": {},
     "output_type": "execute_result"
    },
    {
     "data": {
      "image/png": "[encoded data removed]",
      "text/plain": [
       "<Figure size 1490.4x595.44 with 1 Axes>"
      ]
     },
     "metadata": {},
     "output_type": "display_data"
    }
   ],
   "source": [
    "#plt.figure(figsize=(10,10))\n",
    "x=pd.crosstab(df_vis['approx_cost(for two people)'],df_vis['rest_type_1'])\n",
    "x.plot(kind='bar',stacked=True)\n",
    "sns.set(rc={'figure.figsize':(20.7,8.27)})\n",
    "plt.title('approx_cost(2 person) vs Restaurant type',fontsize=20)\n",
    "plt.legend()"
   ]
  },
  {
   "cell_type": "code",
   "execution_count": 151,
   "id": "a3f90cd2",
   "metadata": {},
   "outputs": [
    {
     "data": {
      "text/plain": [
       "<matplotlib.legend.Legend at 0x1883c478be0>"
      ]
     },
     "execution_count": 151,
     "metadata": {},
     "output_type": "execute_result"
    },
    {
     "data": {
      "image/png": "[encoded data removed]",
      "text/plain": [
       "<Figure size 1490.4x595.44 with 1 Axes>"
      ]
     },
     "metadata": {},
     "output_type": "display_data"
    }
   ],
   "source": [
    "#plt.figure(figsize=(10,10))\n",
    "x=pd.crosstab(df_vis['approx_cost(for two people)'],df_vis['rest_type_2'])\n",
    "x.plot(kind='bar',stacked=True)\n",
    "sns.set(rc={'figure.figsize':(20.7,8.27)})\n",
    "plt.title('approx_cost(2 person) vs Restaurant type',fontsize=20)\n",
    "plt.legend()"
   ]
  },
  {
   "cell_type": "code",
   "execution_count": 152,
   "id": "c3eec63d",
   "metadata": {},
   "outputs": [
    {
     "data": {
      "text/plain": [
       "<matplotlib.legend.Legend at 0x1883a103d90>"
      ]
     },
     "execution_count": 152,
     "metadata": {},
     "output_type": "execute_result"
    },
    {
     "data": {
      "image/png": "[encoded data removed]",
      "text/plain": [
       "<Figure size 1490.4x595.44 with 1 Axes>"
      ]
     },
     "metadata": {},
     "output_type": "display_data"
    }
   ],
   "source": [
    "x=pd.crosstab(df_vis['approx_cost(for two people)'],df_vis['listed_in(city)'])\n",
    "x.plot(kind='bar',stacked=True)\n",
    "sns.set(rc={'figure.figsize':(20.7,8.27)})\n",
    "plt.title('approx_cost(2 person) vs city',fontsize=20)\n",
    "plt.legend()"
   ]
  },
  {
   "cell_type": "code",
   "execution_count": 153,
   "id": "e26b3297",
   "metadata": {
    "scrolled": false
   },
   "outputs": [
    {
     "data": {
      "text/plain": [
       "<matplotlib.legend.Legend at 0x1883ddcd4c0>"
      ]
     },
     "execution_count": 153,
     "metadata": {},
     "output_type": "execute_result"
    },
    {
     "data": {
      "image/png": "[encoded data removed]",
      "text/plain": [
       "<Figure size 1490.4x595.44 with 1 Axes>"
      ]
     },
     "metadata": {},
     "output_type": "display_data"
    }
   ],
   "source": [
    "x=pd.crosstab(df_vis['approx_cost(for two people)'],df_vis['rating'])\n",
    "x.plot(kind='bar',stacked=True)\n",
    "sns.set(rc={'figure.figsize':(20.7,8.27)})\n",
    "plt.title('approx_cost(2 person) vs rating',fontsize=20)\n",
    "plt.legend()"
   ]
  },
  {
   "cell_type": "markdown",
   "id": "065ce716",
   "metadata": {},
   "source": [
    "## top restaurant......"
   ]
  },
  {
   "cell_type": "code",
   "execution_count": 154,
   "id": "13802dc1",
   "metadata": {},
   "outputs": [],
   "source": [
    "top_15=df_vis.name.value_counts()[:15]"
   ]
  },
  {
   "cell_type": "code",
   "execution_count": 155,
   "id": "7b626d39",
   "metadata": {},
   "outputs": [
    {
     "data": {
      "text/plain": [
       "Text(0.5, 1.0, 'Top 15 restaurant')"
      ]
     },
     "execution_count": 155,
     "metadata": {},
     "output_type": "execute_result"
    },
    {
     "data": {
      "image/png": "[encoded data removed]",
      "text/plain": [
       "<Figure size 1490.4x595.44 with 1 Axes>"
      ]
     },
     "metadata": {},
     "output_type": "display_data"
    }
   ],
   "source": [
    "sns.barplot(x=top_15,y=top_15.index,palette='cividis_r')\n",
    "plt.title('Top 15 restaurant',fontsize=20)\n"
   ]
  },
  {
   "cell_type": "markdown",
   "id": "fc809946",
   "metadata": {},
   "source": [
    "## THANK YOU...."
   ]
  },
  {
   "cell_type": "code",
   "execution_count": null,
   "id": "15bfb473",
   "metadata": {},
   "outputs": [],
   "source": []
  }
 ],
 "metadata": {
  "kernelspec": {
   "display_name": "Python 3 (ipykernel)",
   "language": "python",
   "name": "python3"
  },
  "language_info": {
   "codemirror_mode": {
    "name": "ipython",
    "version": 3
   },
   "file_extension": ".py",
   "mimetype": "text/x-python",
   "name": "python",
   "nbconvert_exporter": "python",
   "pygments_lexer": "ipython3",
   "version": "3.9.12"
  }
 },
 "nbformat": 4,
 "nbformat_minor": 5
}
